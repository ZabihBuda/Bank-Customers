{
  "nbformat": 4,
  "nbformat_minor": 0,
  "metadata": {
    "colab": {
      "name": "Bank Customer",
      "provenance": []
    },
    "kernelspec": {
      "name": "python3",
      "display_name": "Python 3"
    },
    "language_info": {
      "name": "python"
    }
  },
  "cells": [
    {
      "cell_type": "markdown",
      "source": [
        "##Importing Required Libraries"
      ],
      "metadata": {
        "id": "fDgy4iFCjrPb"
      }
    },
    {
      "cell_type": "code",
      "execution_count": 86,
      "metadata": {
        "id": "60xDxYtvgnFJ"
      },
      "outputs": [],
      "source": [
        "import pandas as pd\n",
        "import matplotlib.pyplot as plt\n",
        "import numpy as np\n",
        "import seaborn as sns\n",
        "from sklearn.decomposition import PCA\n",
        "from sklearn.preprocessing import StandardScaler as SC\n",
        "from sklearn.preprocessing import LabelEncoder\n",
        "import math\n",
        "from sklearn.impute import SimpleImputer\n",
        "from sklearn.preprocessing import MinMaxScaler\n",
        "import plotly.express as px\n",
        "import plotly.graph_objects as go\n",
        "%matplotlib inline"
      ]
    },
    {
      "cell_type": "markdown",
      "source": [
        "#Data Cleaning"
      ],
      "metadata": {
        "id": "4MuRcCgjj6Gx"
      }
    },
    {
      "cell_type": "markdown",
      "source": [
        "## Customer Information"
      ],
      "metadata": {
        "id": "TMQRq0g90A2C"
      }
    },
    {
      "cell_type": "code",
      "source": [
        "df_customers=pd.read_csv('twm_customer.csv', sep=';')\n",
        "df_cx=df_customers.copy(deep=True) #Making a copy of customer dataset to make changes while cleaning\n",
        "df_cx.head()"
      ],
      "metadata": {
        "colab": {
          "base_uri": "https://localhost:8080/",
          "height": 340
        },
        "id": "wy9TBxT3jVO-",
        "outputId": "9b487fe9-b77c-4507-d76d-3dd8621739ed"
      },
      "execution_count": 40,
      "outputs": [
        {
          "output_type": "execute_result",
          "data": {
            "text/html": [
              "\n",
              "  <div id=\"df-09838151-a129-4432-84b2-8a77b1889765\">\n",
              "    <div class=\"colab-df-container\">\n",
              "      <div>\n",
              "<style scoped>\n",
              "    .dataframe tbody tr th:only-of-type {\n",
              "        vertical-align: middle;\n",
              "    }\n",
              "\n",
              "    .dataframe tbody tr th {\n",
              "        vertical-align: top;\n",
              "    }\n",
              "\n",
              "    .dataframe thead th {\n",
              "        text-align: right;\n",
              "    }\n",
              "</style>\n",
              "<table border=\"1\" class=\"dataframe\">\n",
              "  <thead>\n",
              "    <tr style=\"text-align: right;\">\n",
              "      <th></th>\n",
              "      <th>cust_id</th>\n",
              "      <th>income</th>\n",
              "      <th>age</th>\n",
              "      <th>years_with_bank</th>\n",
              "      <th>nbr_children</th>\n",
              "      <th>gender</th>\n",
              "      <th>marital_status</th>\n",
              "      <th>name_prefix</th>\n",
              "      <th>first_name</th>\n",
              "      <th>last_name</th>\n",
              "      <th>street_nbr</th>\n",
              "      <th>street_name</th>\n",
              "      <th>postal_code</th>\n",
              "      <th>city_name</th>\n",
              "      <th>state_code</th>\n",
              "    </tr>\n",
              "  </thead>\n",
              "  <tbody>\n",
              "    <tr>\n",
              "      <th>0</th>\n",
              "      <td>1362691</td>\n",
              "      <td>26150</td>\n",
              "      <td>46</td>\n",
              "      <td>5</td>\n",
              "      <td>1</td>\n",
              "      <td>M</td>\n",
              "      <td>2</td>\n",
              "      <td></td>\n",
              "      <td>Donald                                        ...</td>\n",
              "      <td>Marek                                         ...</td>\n",
              "      <td>8298</td>\n",
              "      <td>Second                                        ...</td>\n",
              "      <td>89194</td>\n",
              "      <td>Las Vegas</td>\n",
              "      <td>NV</td>\n",
              "    </tr>\n",
              "    <tr>\n",
              "      <th>1</th>\n",
              "      <td>1362487</td>\n",
              "      <td>6605</td>\n",
              "      <td>71</td>\n",
              "      <td>1</td>\n",
              "      <td>0</td>\n",
              "      <td>M</td>\n",
              "      <td>2</td>\n",
              "      <td></td>\n",
              "      <td>ChingDyi                                      ...</td>\n",
              "      <td>Moussavi                                      ...</td>\n",
              "      <td>10603</td>\n",
              "      <td>Daffodil                                      ...</td>\n",
              "      <td>90159</td>\n",
              "      <td>Los Angeles</td>\n",
              "      <td>CA</td>\n",
              "    </tr>\n",
              "    <tr>\n",
              "      <th>2</th>\n",
              "      <td>1363160</td>\n",
              "      <td>18548</td>\n",
              "      <td>38</td>\n",
              "      <td>8</td>\n",
              "      <td>0</td>\n",
              "      <td>F</td>\n",
              "      <td>1</td>\n",
              "      <td></td>\n",
              "      <td>Rosa                                          ...</td>\n",
              "      <td>Johnston                                      ...</td>\n",
              "      <td>8817</td>\n",
              "      <td>Figueroa                                      ...</td>\n",
              "      <td>90024</td>\n",
              "      <td>Los Angeles</td>\n",
              "      <td>CA</td>\n",
              "    </tr>\n",
              "    <tr>\n",
              "      <th>3</th>\n",
              "      <td>1362752</td>\n",
              "      <td>47668</td>\n",
              "      <td>54</td>\n",
              "      <td>3</td>\n",
              "      <td>0</td>\n",
              "      <td>F</td>\n",
              "      <td>1</td>\n",
              "      <td></td>\n",
              "      <td>Lisa                                          ...</td>\n",
              "      <td>Martin                                        ...</td>\n",
              "      <td>676</td>\n",
              "      <td>Humble                                        ...</td>\n",
              "      <td>90172</td>\n",
              "      <td>Los Angeles</td>\n",
              "      <td>CA</td>\n",
              "    </tr>\n",
              "    <tr>\n",
              "      <th>4</th>\n",
              "      <td>1362548</td>\n",
              "      <td>44554</td>\n",
              "      <td>59</td>\n",
              "      <td>9</td>\n",
              "      <td>2</td>\n",
              "      <td>F</td>\n",
              "      <td>4</td>\n",
              "      <td></td>\n",
              "      <td>Barbara                                       ...</td>\n",
              "      <td>O'Malley                                      ...</td>\n",
              "      <td>6578</td>\n",
              "      <td>C                                             ...</td>\n",
              "      <td>10138</td>\n",
              "      <td>New York City</td>\n",
              "      <td>NY</td>\n",
              "    </tr>\n",
              "  </tbody>\n",
              "</table>\n",
              "</div>\n",
              "      <button class=\"colab-df-convert\" onclick=\"convertToInteractive('df-09838151-a129-4432-84b2-8a77b1889765')\"\n",
              "              title=\"Convert this dataframe to an interactive table.\"\n",
              "              style=\"display:none;\">\n",
              "        \n",
              "  <svg xmlns=\"http://www.w3.org/2000/svg\" height=\"24px\"viewBox=\"0 0 24 24\"\n",
              "       width=\"24px\">\n",
              "    <path d=\"M0 0h24v24H0V0z\" fill=\"none\"/>\n",
              "    <path d=\"M18.56 5.44l.94 2.06.94-2.06 2.06-.94-2.06-.94-.94-2.06-.94 2.06-2.06.94zm-11 1L8.5 8.5l.94-2.06 2.06-.94-2.06-.94L8.5 2.5l-.94 2.06-2.06.94zm10 10l.94 2.06.94-2.06 2.06-.94-2.06-.94-.94-2.06-.94 2.06-2.06.94z\"/><path d=\"M17.41 7.96l-1.37-1.37c-.4-.4-.92-.59-1.43-.59-.52 0-1.04.2-1.43.59L10.3 9.45l-7.72 7.72c-.78.78-.78 2.05 0 2.83L4 21.41c.39.39.9.59 1.41.59.51 0 1.02-.2 1.41-.59l7.78-7.78 2.81-2.81c.8-.78.8-2.07 0-2.86zM5.41 20L4 18.59l7.72-7.72 1.47 1.35L5.41 20z\"/>\n",
              "  </svg>\n",
              "      </button>\n",
              "      \n",
              "  <style>\n",
              "    .colab-df-container {\n",
              "      display:flex;\n",
              "      flex-wrap:wrap;\n",
              "      gap: 12px;\n",
              "    }\n",
              "\n",
              "    .colab-df-convert {\n",
              "      background-color: #E8F0FE;\n",
              "      border: none;\n",
              "      border-radius: 50%;\n",
              "      cursor: pointer;\n",
              "      display: none;\n",
              "      fill: #1967D2;\n",
              "      height: 32px;\n",
              "      padding: 0 0 0 0;\n",
              "      width: 32px;\n",
              "    }\n",
              "\n",
              "    .colab-df-convert:hover {\n",
              "      background-color: #E2EBFA;\n",
              "      box-shadow: 0px 1px 2px rgba(60, 64, 67, 0.3), 0px 1px 3px 1px rgba(60, 64, 67, 0.15);\n",
              "      fill: #174EA6;\n",
              "    }\n",
              "\n",
              "    [theme=dark] .colab-df-convert {\n",
              "      background-color: #3B4455;\n",
              "      fill: #D2E3FC;\n",
              "    }\n",
              "\n",
              "    [theme=dark] .colab-df-convert:hover {\n",
              "      background-color: #434B5C;\n",
              "      box-shadow: 0px 1px 3px 1px rgba(0, 0, 0, 0.15);\n",
              "      filter: drop-shadow(0px 1px 2px rgba(0, 0, 0, 0.3));\n",
              "      fill: #FFFFFF;\n",
              "    }\n",
              "  </style>\n",
              "\n",
              "      <script>\n",
              "        const buttonEl =\n",
              "          document.querySelector('#df-09838151-a129-4432-84b2-8a77b1889765 button.colab-df-convert');\n",
              "        buttonEl.style.display =\n",
              "          google.colab.kernel.accessAllowed ? 'block' : 'none';\n",
              "\n",
              "        async function convertToInteractive(key) {\n",
              "          const element = document.querySelector('#df-09838151-a129-4432-84b2-8a77b1889765');\n",
              "          const dataTable =\n",
              "            await google.colab.kernel.invokeFunction('convertToInteractive',\n",
              "                                                     [key], {});\n",
              "          if (!dataTable) return;\n",
              "\n",
              "          const docLinkHtml = 'Like what you see? Visit the ' +\n",
              "            '<a target=\"_blank\" href=https://colab.research.google.com/notebooks/data_table.ipynb>data table notebook</a>'\n",
              "            + ' to learn more about interactive tables.';\n",
              "          element.innerHTML = '';\n",
              "          dataTable['output_type'] = 'display_data';\n",
              "          await google.colab.output.renderOutput(dataTable, element);\n",
              "          const docLink = document.createElement('div');\n",
              "          docLink.innerHTML = docLinkHtml;\n",
              "          element.appendChild(docLink);\n",
              "        }\n",
              "      </script>\n",
              "    </div>\n",
              "  </div>\n",
              "  "
            ],
            "text/plain": [
              "   cust_id  income  ...                                 city_name  state_code\n",
              "0  1362691   26150  ...  Las Vegas                                       NV  \n",
              "1  1362487    6605  ...  Los Angeles                                     CA  \n",
              "2  1363160   18548  ...  Los Angeles                                     CA  \n",
              "3  1362752   47668  ...  Los Angeles                                     CA  \n",
              "4  1362548   44554  ...  New York City                                   NY  \n",
              "\n",
              "[5 rows x 15 columns]"
            ]
          },
          "metadata": {},
          "execution_count": 40
        }
      ]
    },
    {
      "cell_type": "code",
      "source": [
        "df_cx.isnull().sum()"
      ],
      "metadata": {
        "colab": {
          "base_uri": "https://localhost:8080/"
        },
        "id": "_MEEaXcpm9mB",
        "outputId": "7e99c53c-3264-47af-85ea-65828f896ffa"
      },
      "execution_count": 41,
      "outputs": [
        {
          "output_type": "execute_result",
          "data": {
            "text/plain": [
              "cust_id            0\n",
              "income             0\n",
              "age                0\n",
              "years_with_bank    0\n",
              "nbr_children       0\n",
              "gender             0\n",
              "marital_status     0\n",
              "name_prefix        0\n",
              "first_name         0\n",
              "last_name          0\n",
              "street_nbr         0\n",
              "street_name        0\n",
              "postal_code        0\n",
              "city_name          0\n",
              "state_code         0\n",
              "dtype: int64"
            ]
          },
          "metadata": {},
          "execution_count": 41
        }
      ]
    },
    {
      "cell_type": "code",
      "source": [
        "#Removing name prefix, first and last name, street number, and street name columns\n",
        "df_cx.drop(['name_prefix', 'first_name', 'last_name', 'street_nbr', 'street_name'], axis=1, inplace=True)"
      ],
      "metadata": {
        "id": "OS1ysN5HqbTm"
      },
      "execution_count": 42,
      "outputs": []
    },
    {
      "cell_type": "code",
      "source": [
        "df_cx.columns"
      ],
      "metadata": {
        "colab": {
          "base_uri": "https://localhost:8080/"
        },
        "id": "Dw1gzsZInUg3",
        "outputId": "84102aea-4097-43e5-8752-a2eee5e4c84f"
      },
      "execution_count": 43,
      "outputs": [
        {
          "output_type": "execute_result",
          "data": {
            "text/plain": [
              "Index(['cust_id', 'income', 'age', 'years_with_bank', 'nbr_children', 'gender',\n",
              "       'marital_status', 'postal_code', 'city_name', 'state_code'],\n",
              "      dtype='object')"
            ]
          },
          "metadata": {},
          "execution_count": 43
        }
      ]
    },
    {
      "cell_type": "markdown",
      "source": [
        "We can rename the columns properly by captilizing the their first later and removing '_' from some columns."
      ],
      "metadata": {
        "id": "aKns0bBJo3it"
      }
    },
    {
      "cell_type": "code",
      "source": [
        "df_cx.rename(columns={'cust_id': 'Customer ID', 'income':'Income', 'age':'Age','years_with_bank':'Years With Bank', 'nbr_children':'No of Children',\n",
        "                   'gender':'Gender', 'marital_status': 'Marital Status', 'postal_code':'Postal Code','city_name': 'City', 'state_code':'State'}, inplace=True)\n",
        "df_cx.head()"
      ],
      "metadata": {
        "colab": {
          "base_uri": "https://localhost:8080/",
          "height": 206
        },
        "id": "1-Fg6pMOoorW",
        "outputId": "1cfd98b2-c2e5-420f-e11e-7ddf9c440f9d"
      },
      "execution_count": 44,
      "outputs": [
        {
          "output_type": "execute_result",
          "data": {
            "text/html": [
              "\n",
              "  <div id=\"df-9f8848c3-9471-45ec-87a9-ea13636a3b34\">\n",
              "    <div class=\"colab-df-container\">\n",
              "      <div>\n",
              "<style scoped>\n",
              "    .dataframe tbody tr th:only-of-type {\n",
              "        vertical-align: middle;\n",
              "    }\n",
              "\n",
              "    .dataframe tbody tr th {\n",
              "        vertical-align: top;\n",
              "    }\n",
              "\n",
              "    .dataframe thead th {\n",
              "        text-align: right;\n",
              "    }\n",
              "</style>\n",
              "<table border=\"1\" class=\"dataframe\">\n",
              "  <thead>\n",
              "    <tr style=\"text-align: right;\">\n",
              "      <th></th>\n",
              "      <th>Customer ID</th>\n",
              "      <th>Income</th>\n",
              "      <th>Age</th>\n",
              "      <th>Years With Bank</th>\n",
              "      <th>No of Children</th>\n",
              "      <th>Gender</th>\n",
              "      <th>Marital Status</th>\n",
              "      <th>Postal Code</th>\n",
              "      <th>City</th>\n",
              "      <th>State</th>\n",
              "    </tr>\n",
              "  </thead>\n",
              "  <tbody>\n",
              "    <tr>\n",
              "      <th>0</th>\n",
              "      <td>1362691</td>\n",
              "      <td>26150</td>\n",
              "      <td>46</td>\n",
              "      <td>5</td>\n",
              "      <td>1</td>\n",
              "      <td>M</td>\n",
              "      <td>2</td>\n",
              "      <td>89194</td>\n",
              "      <td>Las Vegas</td>\n",
              "      <td>NV</td>\n",
              "    </tr>\n",
              "    <tr>\n",
              "      <th>1</th>\n",
              "      <td>1362487</td>\n",
              "      <td>6605</td>\n",
              "      <td>71</td>\n",
              "      <td>1</td>\n",
              "      <td>0</td>\n",
              "      <td>M</td>\n",
              "      <td>2</td>\n",
              "      <td>90159</td>\n",
              "      <td>Los Angeles</td>\n",
              "      <td>CA</td>\n",
              "    </tr>\n",
              "    <tr>\n",
              "      <th>2</th>\n",
              "      <td>1363160</td>\n",
              "      <td>18548</td>\n",
              "      <td>38</td>\n",
              "      <td>8</td>\n",
              "      <td>0</td>\n",
              "      <td>F</td>\n",
              "      <td>1</td>\n",
              "      <td>90024</td>\n",
              "      <td>Los Angeles</td>\n",
              "      <td>CA</td>\n",
              "    </tr>\n",
              "    <tr>\n",
              "      <th>3</th>\n",
              "      <td>1362752</td>\n",
              "      <td>47668</td>\n",
              "      <td>54</td>\n",
              "      <td>3</td>\n",
              "      <td>0</td>\n",
              "      <td>F</td>\n",
              "      <td>1</td>\n",
              "      <td>90172</td>\n",
              "      <td>Los Angeles</td>\n",
              "      <td>CA</td>\n",
              "    </tr>\n",
              "    <tr>\n",
              "      <th>4</th>\n",
              "      <td>1362548</td>\n",
              "      <td>44554</td>\n",
              "      <td>59</td>\n",
              "      <td>9</td>\n",
              "      <td>2</td>\n",
              "      <td>F</td>\n",
              "      <td>4</td>\n",
              "      <td>10138</td>\n",
              "      <td>New York City</td>\n",
              "      <td>NY</td>\n",
              "    </tr>\n",
              "  </tbody>\n",
              "</table>\n",
              "</div>\n",
              "      <button class=\"colab-df-convert\" onclick=\"convertToInteractive('df-9f8848c3-9471-45ec-87a9-ea13636a3b34')\"\n",
              "              title=\"Convert this dataframe to an interactive table.\"\n",
              "              style=\"display:none;\">\n",
              "        \n",
              "  <svg xmlns=\"http://www.w3.org/2000/svg\" height=\"24px\"viewBox=\"0 0 24 24\"\n",
              "       width=\"24px\">\n",
              "    <path d=\"M0 0h24v24H0V0z\" fill=\"none\"/>\n",
              "    <path d=\"M18.56 5.44l.94 2.06.94-2.06 2.06-.94-2.06-.94-.94-2.06-.94 2.06-2.06.94zm-11 1L8.5 8.5l.94-2.06 2.06-.94-2.06-.94L8.5 2.5l-.94 2.06-2.06.94zm10 10l.94 2.06.94-2.06 2.06-.94-2.06-.94-.94-2.06-.94 2.06-2.06.94z\"/><path d=\"M17.41 7.96l-1.37-1.37c-.4-.4-.92-.59-1.43-.59-.52 0-1.04.2-1.43.59L10.3 9.45l-7.72 7.72c-.78.78-.78 2.05 0 2.83L4 21.41c.39.39.9.59 1.41.59.51 0 1.02-.2 1.41-.59l7.78-7.78 2.81-2.81c.8-.78.8-2.07 0-2.86zM5.41 20L4 18.59l7.72-7.72 1.47 1.35L5.41 20z\"/>\n",
              "  </svg>\n",
              "      </button>\n",
              "      \n",
              "  <style>\n",
              "    .colab-df-container {\n",
              "      display:flex;\n",
              "      flex-wrap:wrap;\n",
              "      gap: 12px;\n",
              "    }\n",
              "\n",
              "    .colab-df-convert {\n",
              "      background-color: #E8F0FE;\n",
              "      border: none;\n",
              "      border-radius: 50%;\n",
              "      cursor: pointer;\n",
              "      display: none;\n",
              "      fill: #1967D2;\n",
              "      height: 32px;\n",
              "      padding: 0 0 0 0;\n",
              "      width: 32px;\n",
              "    }\n",
              "\n",
              "    .colab-df-convert:hover {\n",
              "      background-color: #E2EBFA;\n",
              "      box-shadow: 0px 1px 2px rgba(60, 64, 67, 0.3), 0px 1px 3px 1px rgba(60, 64, 67, 0.15);\n",
              "      fill: #174EA6;\n",
              "    }\n",
              "\n",
              "    [theme=dark] .colab-df-convert {\n",
              "      background-color: #3B4455;\n",
              "      fill: #D2E3FC;\n",
              "    }\n",
              "\n",
              "    [theme=dark] .colab-df-convert:hover {\n",
              "      background-color: #434B5C;\n",
              "      box-shadow: 0px 1px 3px 1px rgba(0, 0, 0, 0.15);\n",
              "      filter: drop-shadow(0px 1px 2px rgba(0, 0, 0, 0.3));\n",
              "      fill: #FFFFFF;\n",
              "    }\n",
              "  </style>\n",
              "\n",
              "      <script>\n",
              "        const buttonEl =\n",
              "          document.querySelector('#df-9f8848c3-9471-45ec-87a9-ea13636a3b34 button.colab-df-convert');\n",
              "        buttonEl.style.display =\n",
              "          google.colab.kernel.accessAllowed ? 'block' : 'none';\n",
              "\n",
              "        async function convertToInteractive(key) {\n",
              "          const element = document.querySelector('#df-9f8848c3-9471-45ec-87a9-ea13636a3b34');\n",
              "          const dataTable =\n",
              "            await google.colab.kernel.invokeFunction('convertToInteractive',\n",
              "                                                     [key], {});\n",
              "          if (!dataTable) return;\n",
              "\n",
              "          const docLinkHtml = 'Like what you see? Visit the ' +\n",
              "            '<a target=\"_blank\" href=https://colab.research.google.com/notebooks/data_table.ipynb>data table notebook</a>'\n",
              "            + ' to learn more about interactive tables.';\n",
              "          element.innerHTML = '';\n",
              "          dataTable['output_type'] = 'display_data';\n",
              "          await google.colab.output.renderOutput(dataTable, element);\n",
              "          const docLink = document.createElement('div');\n",
              "          docLink.innerHTML = docLinkHtml;\n",
              "          element.appendChild(docLink);\n",
              "        }\n",
              "      </script>\n",
              "    </div>\n",
              "  </div>\n",
              "  "
            ],
            "text/plain": [
              "   Customer ID  Income  ...                                      City  State\n",
              "0      1362691   26150  ...  Las Vegas                                  NV  \n",
              "1      1362487    6605  ...  Los Angeles                                CA  \n",
              "2      1363160   18548  ...  Los Angeles                                CA  \n",
              "3      1362752   47668  ...  Los Angeles                                CA  \n",
              "4      1362548   44554  ...  New York City                              NY  \n",
              "\n",
              "[5 rows x 10 columns]"
            ]
          },
          "metadata": {},
          "execution_count": 44
        }
      ]
    },
    {
      "cell_type": "markdown",
      "source": [
        "Marital status is not clearifie here. First, we need to see how mancy categories the column has."
      ],
      "metadata": {
        "id": "EGWM3aGUsbjn"
      }
    },
    {
      "cell_type": "code",
      "source": [
        "df_cx['Marital Status'].value_counts()"
      ],
      "metadata": {
        "colab": {
          "base_uri": "https://localhost:8080/"
        },
        "id": "FVrGglFhtT8D",
        "outputId": "93e73fa6-ac11-4335-dfa1-7eb1cc3f3544"
      },
      "execution_count": 45,
      "outputs": [
        {
          "output_type": "execute_result",
          "data": {
            "text/plain": [
              "2    353\n",
              "1    276\n",
              "4     70\n",
              "3     48\n",
              "Name: Marital Status, dtype: int64"
            ]
          },
          "metadata": {},
          "execution_count": 45
        }
      ]
    },
    {
      "cell_type": "markdown",
      "source": [
        "So, let's rename 1: Single, 2:Married, 3:Divorced, 4:Unknown"
      ],
      "metadata": {
        "id": "p1S_CtLOuC5l"
      }
    },
    {
      "cell_type": "code",
      "source": [
        "df_cx['Marital Status'].replace({1:'Single', 2:'Married', 3:'Divorced', 4:'Unknown'}, inplace=True)\n",
        "df_cx.head()"
      ],
      "metadata": {
        "colab": {
          "base_uri": "https://localhost:8080/",
          "height": 206
        },
        "id": "hxN6BgYKre7o",
        "outputId": "0dd35b62-cf11-427b-e72f-199583f23f16"
      },
      "execution_count": 46,
      "outputs": [
        {
          "output_type": "execute_result",
          "data": {
            "text/html": [
              "\n",
              "  <div id=\"df-5842c52d-8d83-45e1-8e1c-ad68f6a79d66\">\n",
              "    <div class=\"colab-df-container\">\n",
              "      <div>\n",
              "<style scoped>\n",
              "    .dataframe tbody tr th:only-of-type {\n",
              "        vertical-align: middle;\n",
              "    }\n",
              "\n",
              "    .dataframe tbody tr th {\n",
              "        vertical-align: top;\n",
              "    }\n",
              "\n",
              "    .dataframe thead th {\n",
              "        text-align: right;\n",
              "    }\n",
              "</style>\n",
              "<table border=\"1\" class=\"dataframe\">\n",
              "  <thead>\n",
              "    <tr style=\"text-align: right;\">\n",
              "      <th></th>\n",
              "      <th>Customer ID</th>\n",
              "      <th>Income</th>\n",
              "      <th>Age</th>\n",
              "      <th>Years With Bank</th>\n",
              "      <th>No of Children</th>\n",
              "      <th>Gender</th>\n",
              "      <th>Marital Status</th>\n",
              "      <th>Postal Code</th>\n",
              "      <th>City</th>\n",
              "      <th>State</th>\n",
              "    </tr>\n",
              "  </thead>\n",
              "  <tbody>\n",
              "    <tr>\n",
              "      <th>0</th>\n",
              "      <td>1362691</td>\n",
              "      <td>26150</td>\n",
              "      <td>46</td>\n",
              "      <td>5</td>\n",
              "      <td>1</td>\n",
              "      <td>M</td>\n",
              "      <td>Married</td>\n",
              "      <td>89194</td>\n",
              "      <td>Las Vegas</td>\n",
              "      <td>NV</td>\n",
              "    </tr>\n",
              "    <tr>\n",
              "      <th>1</th>\n",
              "      <td>1362487</td>\n",
              "      <td>6605</td>\n",
              "      <td>71</td>\n",
              "      <td>1</td>\n",
              "      <td>0</td>\n",
              "      <td>M</td>\n",
              "      <td>Married</td>\n",
              "      <td>90159</td>\n",
              "      <td>Los Angeles</td>\n",
              "      <td>CA</td>\n",
              "    </tr>\n",
              "    <tr>\n",
              "      <th>2</th>\n",
              "      <td>1363160</td>\n",
              "      <td>18548</td>\n",
              "      <td>38</td>\n",
              "      <td>8</td>\n",
              "      <td>0</td>\n",
              "      <td>F</td>\n",
              "      <td>Single</td>\n",
              "      <td>90024</td>\n",
              "      <td>Los Angeles</td>\n",
              "      <td>CA</td>\n",
              "    </tr>\n",
              "    <tr>\n",
              "      <th>3</th>\n",
              "      <td>1362752</td>\n",
              "      <td>47668</td>\n",
              "      <td>54</td>\n",
              "      <td>3</td>\n",
              "      <td>0</td>\n",
              "      <td>F</td>\n",
              "      <td>Single</td>\n",
              "      <td>90172</td>\n",
              "      <td>Los Angeles</td>\n",
              "      <td>CA</td>\n",
              "    </tr>\n",
              "    <tr>\n",
              "      <th>4</th>\n",
              "      <td>1362548</td>\n",
              "      <td>44554</td>\n",
              "      <td>59</td>\n",
              "      <td>9</td>\n",
              "      <td>2</td>\n",
              "      <td>F</td>\n",
              "      <td>Unknown</td>\n",
              "      <td>10138</td>\n",
              "      <td>New York City</td>\n",
              "      <td>NY</td>\n",
              "    </tr>\n",
              "  </tbody>\n",
              "</table>\n",
              "</div>\n",
              "      <button class=\"colab-df-convert\" onclick=\"convertToInteractive('df-5842c52d-8d83-45e1-8e1c-ad68f6a79d66')\"\n",
              "              title=\"Convert this dataframe to an interactive table.\"\n",
              "              style=\"display:none;\">\n",
              "        \n",
              "  <svg xmlns=\"http://www.w3.org/2000/svg\" height=\"24px\"viewBox=\"0 0 24 24\"\n",
              "       width=\"24px\">\n",
              "    <path d=\"M0 0h24v24H0V0z\" fill=\"none\"/>\n",
              "    <path d=\"M18.56 5.44l.94 2.06.94-2.06 2.06-.94-2.06-.94-.94-2.06-.94 2.06-2.06.94zm-11 1L8.5 8.5l.94-2.06 2.06-.94-2.06-.94L8.5 2.5l-.94 2.06-2.06.94zm10 10l.94 2.06.94-2.06 2.06-.94-2.06-.94-.94-2.06-.94 2.06-2.06.94z\"/><path d=\"M17.41 7.96l-1.37-1.37c-.4-.4-.92-.59-1.43-.59-.52 0-1.04.2-1.43.59L10.3 9.45l-7.72 7.72c-.78.78-.78 2.05 0 2.83L4 21.41c.39.39.9.59 1.41.59.51 0 1.02-.2 1.41-.59l7.78-7.78 2.81-2.81c.8-.78.8-2.07 0-2.86zM5.41 20L4 18.59l7.72-7.72 1.47 1.35L5.41 20z\"/>\n",
              "  </svg>\n",
              "      </button>\n",
              "      \n",
              "  <style>\n",
              "    .colab-df-container {\n",
              "      display:flex;\n",
              "      flex-wrap:wrap;\n",
              "      gap: 12px;\n",
              "    }\n",
              "\n",
              "    .colab-df-convert {\n",
              "      background-color: #E8F0FE;\n",
              "      border: none;\n",
              "      border-radius: 50%;\n",
              "      cursor: pointer;\n",
              "      display: none;\n",
              "      fill: #1967D2;\n",
              "      height: 32px;\n",
              "      padding: 0 0 0 0;\n",
              "      width: 32px;\n",
              "    }\n",
              "\n",
              "    .colab-df-convert:hover {\n",
              "      background-color: #E2EBFA;\n",
              "      box-shadow: 0px 1px 2px rgba(60, 64, 67, 0.3), 0px 1px 3px 1px rgba(60, 64, 67, 0.15);\n",
              "      fill: #174EA6;\n",
              "    }\n",
              "\n",
              "    [theme=dark] .colab-df-convert {\n",
              "      background-color: #3B4455;\n",
              "      fill: #D2E3FC;\n",
              "    }\n",
              "\n",
              "    [theme=dark] .colab-df-convert:hover {\n",
              "      background-color: #434B5C;\n",
              "      box-shadow: 0px 1px 3px 1px rgba(0, 0, 0, 0.15);\n",
              "      filter: drop-shadow(0px 1px 2px rgba(0, 0, 0, 0.3));\n",
              "      fill: #FFFFFF;\n",
              "    }\n",
              "  </style>\n",
              "\n",
              "      <script>\n",
              "        const buttonEl =\n",
              "          document.querySelector('#df-5842c52d-8d83-45e1-8e1c-ad68f6a79d66 button.colab-df-convert');\n",
              "        buttonEl.style.display =\n",
              "          google.colab.kernel.accessAllowed ? 'block' : 'none';\n",
              "\n",
              "        async function convertToInteractive(key) {\n",
              "          const element = document.querySelector('#df-5842c52d-8d83-45e1-8e1c-ad68f6a79d66');\n",
              "          const dataTable =\n",
              "            await google.colab.kernel.invokeFunction('convertToInteractive',\n",
              "                                                     [key], {});\n",
              "          if (!dataTable) return;\n",
              "\n",
              "          const docLinkHtml = 'Like what you see? Visit the ' +\n",
              "            '<a target=\"_blank\" href=https://colab.research.google.com/notebooks/data_table.ipynb>data table notebook</a>'\n",
              "            + ' to learn more about interactive tables.';\n",
              "          element.innerHTML = '';\n",
              "          dataTable['output_type'] = 'display_data';\n",
              "          await google.colab.output.renderOutput(dataTable, element);\n",
              "          const docLink = document.createElement('div');\n",
              "          docLink.innerHTML = docLinkHtml;\n",
              "          element.appendChild(docLink);\n",
              "        }\n",
              "      </script>\n",
              "    </div>\n",
              "  </div>\n",
              "  "
            ],
            "text/plain": [
              "   Customer ID  Income  ...                                      City  State\n",
              "0      1362691   26150  ...  Las Vegas                                  NV  \n",
              "1      1362487    6605  ...  Los Angeles                                CA  \n",
              "2      1363160   18548  ...  Los Angeles                                CA  \n",
              "3      1362752   47668  ...  Los Angeles                                CA  \n",
              "4      1362548   44554  ...  New York City                              NY  \n",
              "\n",
              "[5 rows x 10 columns]"
            ]
          },
          "metadata": {},
          "execution_count": 46
        }
      ]
    },
    {
      "cell_type": "markdown",
      "source": [
        "We can also checke if there is any irregularities with City and State names."
      ],
      "metadata": {
        "id": "aARhpJYku1oM"
      }
    },
    {
      "cell_type": "code",
      "source": [
        "print(df_cx['City'].value_counts())\n",
        "print()\n",
        "print(df_cx['State'].value_counts())"
      ],
      "metadata": {
        "colab": {
          "base_uri": "https://localhost:8080/"
        },
        "id": "V42eJPmKujao",
        "outputId": "0f5b9c9e-3a31-4eff-a2dd-218b5363dead"
      },
      "execution_count": 47,
      "outputs": [
        {
          "output_type": "stream",
          "name": "stdout",
          "text": [
            "New York City                               98\n",
            "Los Angeles                                 84\n",
            "Chicago                                     56\n",
            "Houston                                     39\n",
            "San Francisco                               23\n",
            "                                            ..\n",
            "Atlanta                                      2\n",
            "Tampa                                        2\n",
            "Arlington                                    1\n",
            "Buffalo                                      1\n",
            "Virginia Beach                               1\n",
            "Name: City, Length: 69, dtype: int64\n",
            "\n",
            "CA      177\n",
            "NY      107\n",
            "TX       83\n",
            "IL       56\n",
            "AZ       24\n",
            "OH       23\n",
            "PA       21\n",
            "TN       18\n",
            "MO       17\n",
            "FL       16\n",
            "OK       16\n",
            "IN       16\n",
            "OR       16\n",
            "WI       15\n",
            "MN       13\n",
            "KY       13\n",
            "HI       13\n",
            "NJ       12\n",
            "CO       11\n",
            "MI        9\n",
            "NC        9\n",
            "WA        9\n",
            "MA        8\n",
            "MD        8\n",
            "NM        7\n",
            "DC        6\n",
            "VA        5\n",
            "AL        4\n",
            "NV        4\n",
            "LA        3\n",
            "NB        3\n",
            "KS        3\n",
            "GA        2\n",
            "Name: State, dtype: int64\n"
          ]
        }
      ]
    },
    {
      "cell_type": "markdown",
      "source": [
        "No issue with these two columns. Now we can clean the rest of the datasets to get them ready for analysis."
      ],
      "metadata": {
        "id": "JCYmKjGnvgjB"
      }
    },
    {
      "cell_type": "markdown",
      "source": [
        "## Accounts"
      ],
      "metadata": {
        "id": "X3Gwu8nmzyQD"
      }
    },
    {
      "cell_type": "code",
      "source": [
        "df_accounts=pd.read_csv('twm_accounts.csv', sep=';')\n",
        "df_acc=df_accounts.copy(deep=True)\n",
        "df_acc.head()"
      ],
      "metadata": {
        "colab": {
          "base_uri": "https://localhost:8080/",
          "height": 206
        },
        "id": "TSaDZH7_vDCw",
        "outputId": "8657e9d5-0020-4eb6-ae57-f5c6af69171a"
      },
      "execution_count": 73,
      "outputs": [
        {
          "output_type": "execute_result",
          "data": {
            "text/html": [
              "\n",
              "  <div id=\"df-b1d0e8a2-ad0b-422c-a048-672248807ff2\">\n",
              "    <div class=\"colab-df-container\">\n",
              "      <div>\n",
              "<style scoped>\n",
              "    .dataframe tbody tr th:only-of-type {\n",
              "        vertical-align: middle;\n",
              "    }\n",
              "\n",
              "    .dataframe tbody tr th {\n",
              "        vertical-align: top;\n",
              "    }\n",
              "\n",
              "    .dataframe thead th {\n",
              "        text-align: right;\n",
              "    }\n",
              "</style>\n",
              "<table border=\"1\" class=\"dataframe\">\n",
              "  <thead>\n",
              "    <tr style=\"text-align: right;\">\n",
              "      <th></th>\n",
              "      <th>acct_nbr</th>\n",
              "      <th>cust_id</th>\n",
              "      <th>acct_type</th>\n",
              "      <th>account_active</th>\n",
              "      <th>acct_start_date</th>\n",
              "      <th>acct_end_date</th>\n",
              "      <th>starting_balance</th>\n",
              "      <th>ending_balance</th>\n",
              "    </tr>\n",
              "  </thead>\n",
              "  <tbody>\n",
              "    <tr>\n",
              "      <th>0</th>\n",
              "      <td>13628063</td>\n",
              "      <td>1362806</td>\n",
              "      <td>SV</td>\n",
              "      <td>Y</td>\n",
              "      <td>10.12.1995</td>\n",
              "      <td>NaN</td>\n",
              "      <td>1430.22</td>\n",
              "      <td>284.58</td>\n",
              "    </tr>\n",
              "    <tr>\n",
              "      <th>1</th>\n",
              "      <td>4561143213627090</td>\n",
              "      <td>1362709</td>\n",
              "      <td>CC</td>\n",
              "      <td>Y</td>\n",
              "      <td>15.3.1993</td>\n",
              "      <td>NaN</td>\n",
              "      <td>266.34</td>\n",
              "      <td>496.15</td>\n",
              "    </tr>\n",
              "    <tr>\n",
              "      <th>2</th>\n",
              "      <td>4561143213628360</td>\n",
              "      <td>1362836</td>\n",
              "      <td>CC</td>\n",
              "      <td>Y</td>\n",
              "      <td>18.3.1992</td>\n",
              "      <td>NaN</td>\n",
              "      <td>55.90</td>\n",
              "      <td>1000.00</td>\n",
              "    </tr>\n",
              "    <tr>\n",
              "      <th>3</th>\n",
              "      <td>13633112</td>\n",
              "      <td>1363311</td>\n",
              "      <td>CK</td>\n",
              "      <td>Y</td>\n",
              "      <td>6.7.1995</td>\n",
              "      <td>NaN</td>\n",
              "      <td>11017.13</td>\n",
              "      <td>968.46</td>\n",
              "    </tr>\n",
              "    <tr>\n",
              "      <th>4</th>\n",
              "      <td>4561143213633610</td>\n",
              "      <td>1363361</td>\n",
              "      <td>CC</td>\n",
              "      <td>Y</td>\n",
              "      <td>17.6.1994</td>\n",
              "      <td>NaN</td>\n",
              "      <td>849.37</td>\n",
              "      <td>462.28</td>\n",
              "    </tr>\n",
              "  </tbody>\n",
              "</table>\n",
              "</div>\n",
              "      <button class=\"colab-df-convert\" onclick=\"convertToInteractive('df-b1d0e8a2-ad0b-422c-a048-672248807ff2')\"\n",
              "              title=\"Convert this dataframe to an interactive table.\"\n",
              "              style=\"display:none;\">\n",
              "        \n",
              "  <svg xmlns=\"http://www.w3.org/2000/svg\" height=\"24px\"viewBox=\"0 0 24 24\"\n",
              "       width=\"24px\">\n",
              "    <path d=\"M0 0h24v24H0V0z\" fill=\"none\"/>\n",
              "    <path d=\"M18.56 5.44l.94 2.06.94-2.06 2.06-.94-2.06-.94-.94-2.06-.94 2.06-2.06.94zm-11 1L8.5 8.5l.94-2.06 2.06-.94-2.06-.94L8.5 2.5l-.94 2.06-2.06.94zm10 10l.94 2.06.94-2.06 2.06-.94-2.06-.94-.94-2.06-.94 2.06-2.06.94z\"/><path d=\"M17.41 7.96l-1.37-1.37c-.4-.4-.92-.59-1.43-.59-.52 0-1.04.2-1.43.59L10.3 9.45l-7.72 7.72c-.78.78-.78 2.05 0 2.83L4 21.41c.39.39.9.59 1.41.59.51 0 1.02-.2 1.41-.59l7.78-7.78 2.81-2.81c.8-.78.8-2.07 0-2.86zM5.41 20L4 18.59l7.72-7.72 1.47 1.35L5.41 20z\"/>\n",
              "  </svg>\n",
              "      </button>\n",
              "      \n",
              "  <style>\n",
              "    .colab-df-container {\n",
              "      display:flex;\n",
              "      flex-wrap:wrap;\n",
              "      gap: 12px;\n",
              "    }\n",
              "\n",
              "    .colab-df-convert {\n",
              "      background-color: #E8F0FE;\n",
              "      border: none;\n",
              "      border-radius: 50%;\n",
              "      cursor: pointer;\n",
              "      display: none;\n",
              "      fill: #1967D2;\n",
              "      height: 32px;\n",
              "      padding: 0 0 0 0;\n",
              "      width: 32px;\n",
              "    }\n",
              "\n",
              "    .colab-df-convert:hover {\n",
              "      background-color: #E2EBFA;\n",
              "      box-shadow: 0px 1px 2px rgba(60, 64, 67, 0.3), 0px 1px 3px 1px rgba(60, 64, 67, 0.15);\n",
              "      fill: #174EA6;\n",
              "    }\n",
              "\n",
              "    [theme=dark] .colab-df-convert {\n",
              "      background-color: #3B4455;\n",
              "      fill: #D2E3FC;\n",
              "    }\n",
              "\n",
              "    [theme=dark] .colab-df-convert:hover {\n",
              "      background-color: #434B5C;\n",
              "      box-shadow: 0px 1px 3px 1px rgba(0, 0, 0, 0.15);\n",
              "      filter: drop-shadow(0px 1px 2px rgba(0, 0, 0, 0.3));\n",
              "      fill: #FFFFFF;\n",
              "    }\n",
              "  </style>\n",
              "\n",
              "      <script>\n",
              "        const buttonEl =\n",
              "          document.querySelector('#df-b1d0e8a2-ad0b-422c-a048-672248807ff2 button.colab-df-convert');\n",
              "        buttonEl.style.display =\n",
              "          google.colab.kernel.accessAllowed ? 'block' : 'none';\n",
              "\n",
              "        async function convertToInteractive(key) {\n",
              "          const element = document.querySelector('#df-b1d0e8a2-ad0b-422c-a048-672248807ff2');\n",
              "          const dataTable =\n",
              "            await google.colab.kernel.invokeFunction('convertToInteractive',\n",
              "                                                     [key], {});\n",
              "          if (!dataTable) return;\n",
              "\n",
              "          const docLinkHtml = 'Like what you see? Visit the ' +\n",
              "            '<a target=\"_blank\" href=https://colab.research.google.com/notebooks/data_table.ipynb>data table notebook</a>'\n",
              "            + ' to learn more about interactive tables.';\n",
              "          element.innerHTML = '';\n",
              "          dataTable['output_type'] = 'display_data';\n",
              "          await google.colab.output.renderOutput(dataTable, element);\n",
              "          const docLink = document.createElement('div');\n",
              "          docLink.innerHTML = docLinkHtml;\n",
              "          element.appendChild(docLink);\n",
              "        }\n",
              "      </script>\n",
              "    </div>\n",
              "  </div>\n",
              "  "
            ],
            "text/plain": [
              "           acct_nbr  cust_id  ... starting_balance ending_balance\n",
              "0          13628063  1362806  ...          1430.22         284.58\n",
              "1  4561143213627090  1362709  ...           266.34         496.15\n",
              "2  4561143213628360  1362836  ...            55.90        1000.00\n",
              "3          13633112  1363311  ...         11017.13         968.46\n",
              "4  4561143213633610  1363361  ...           849.37         462.28\n",
              "\n",
              "[5 rows x 8 columns]"
            ]
          },
          "metadata": {},
          "execution_count": 73
        }
      ]
    },
    {
      "cell_type": "code",
      "source": [
        "df_acc.columns"
      ],
      "metadata": {
        "colab": {
          "base_uri": "https://localhost:8080/"
        },
        "id": "yXLZXKaLxqwQ",
        "outputId": "67b9c9c2-c148-4d76-c7ed-59e45b9f85b1"
      },
      "execution_count": 74,
      "outputs": [
        {
          "output_type": "execute_result",
          "data": {
            "text/plain": [
              "Index(['acct_nbr', 'cust_id', 'acct_type', 'account_active', 'acct_start_date',\n",
              "       'acct_end_date', 'starting_balance', 'ending_balance'],\n",
              "      dtype='object')"
            ]
          },
          "metadata": {},
          "execution_count": 74
        }
      ]
    },
    {
      "cell_type": "code",
      "source": [
        "\n",
        "df_acc.rename(columns={ 'acct_nbr':'Acc Number' ,'cust_id':'Customer ID', 'acct_type': 'Acc Type','account_active': 'Active', 'acct_start_date':'Start Date','acct_end_date': 'End Date', 'starting_balance': 'Starting Balance', 'ending_balance': 'Ending Balance'}, inplace=True)\n",
        "df_acc.head()"
      ],
      "metadata": {
        "colab": {
          "base_uri": "https://localhost:8080/",
          "height": 206
        },
        "id": "Q4O0cKq8wGje",
        "outputId": "faf5f6ff-79c6-4412-8096-bf4e45292ac5"
      },
      "execution_count": 75,
      "outputs": [
        {
          "output_type": "execute_result",
          "data": {
            "text/html": [
              "\n",
              "  <div id=\"df-a91ab191-d085-46ef-8cc5-94c6747dbeed\">\n",
              "    <div class=\"colab-df-container\">\n",
              "      <div>\n",
              "<style scoped>\n",
              "    .dataframe tbody tr th:only-of-type {\n",
              "        vertical-align: middle;\n",
              "    }\n",
              "\n",
              "    .dataframe tbody tr th {\n",
              "        vertical-align: top;\n",
              "    }\n",
              "\n",
              "    .dataframe thead th {\n",
              "        text-align: right;\n",
              "    }\n",
              "</style>\n",
              "<table border=\"1\" class=\"dataframe\">\n",
              "  <thead>\n",
              "    <tr style=\"text-align: right;\">\n",
              "      <th></th>\n",
              "      <th>Acc Number</th>\n",
              "      <th>Customer ID</th>\n",
              "      <th>Acc Type</th>\n",
              "      <th>Active</th>\n",
              "      <th>Start Date</th>\n",
              "      <th>End Date</th>\n",
              "      <th>Starting Balance</th>\n",
              "      <th>Ending Balance</th>\n",
              "    </tr>\n",
              "  </thead>\n",
              "  <tbody>\n",
              "    <tr>\n",
              "      <th>0</th>\n",
              "      <td>13628063</td>\n",
              "      <td>1362806</td>\n",
              "      <td>SV</td>\n",
              "      <td>Y</td>\n",
              "      <td>10.12.1995</td>\n",
              "      <td>NaN</td>\n",
              "      <td>1430.22</td>\n",
              "      <td>284.58</td>\n",
              "    </tr>\n",
              "    <tr>\n",
              "      <th>1</th>\n",
              "      <td>4561143213627090</td>\n",
              "      <td>1362709</td>\n",
              "      <td>CC</td>\n",
              "      <td>Y</td>\n",
              "      <td>15.3.1993</td>\n",
              "      <td>NaN</td>\n",
              "      <td>266.34</td>\n",
              "      <td>496.15</td>\n",
              "    </tr>\n",
              "    <tr>\n",
              "      <th>2</th>\n",
              "      <td>4561143213628360</td>\n",
              "      <td>1362836</td>\n",
              "      <td>CC</td>\n",
              "      <td>Y</td>\n",
              "      <td>18.3.1992</td>\n",
              "      <td>NaN</td>\n",
              "      <td>55.90</td>\n",
              "      <td>1000.00</td>\n",
              "    </tr>\n",
              "    <tr>\n",
              "      <th>3</th>\n",
              "      <td>13633112</td>\n",
              "      <td>1363311</td>\n",
              "      <td>CK</td>\n",
              "      <td>Y</td>\n",
              "      <td>6.7.1995</td>\n",
              "      <td>NaN</td>\n",
              "      <td>11017.13</td>\n",
              "      <td>968.46</td>\n",
              "    </tr>\n",
              "    <tr>\n",
              "      <th>4</th>\n",
              "      <td>4561143213633610</td>\n",
              "      <td>1363361</td>\n",
              "      <td>CC</td>\n",
              "      <td>Y</td>\n",
              "      <td>17.6.1994</td>\n",
              "      <td>NaN</td>\n",
              "      <td>849.37</td>\n",
              "      <td>462.28</td>\n",
              "    </tr>\n",
              "  </tbody>\n",
              "</table>\n",
              "</div>\n",
              "      <button class=\"colab-df-convert\" onclick=\"convertToInteractive('df-a91ab191-d085-46ef-8cc5-94c6747dbeed')\"\n",
              "              title=\"Convert this dataframe to an interactive table.\"\n",
              "              style=\"display:none;\">\n",
              "        \n",
              "  <svg xmlns=\"http://www.w3.org/2000/svg\" height=\"24px\"viewBox=\"0 0 24 24\"\n",
              "       width=\"24px\">\n",
              "    <path d=\"M0 0h24v24H0V0z\" fill=\"none\"/>\n",
              "    <path d=\"M18.56 5.44l.94 2.06.94-2.06 2.06-.94-2.06-.94-.94-2.06-.94 2.06-2.06.94zm-11 1L8.5 8.5l.94-2.06 2.06-.94-2.06-.94L8.5 2.5l-.94 2.06-2.06.94zm10 10l.94 2.06.94-2.06 2.06-.94-2.06-.94-.94-2.06-.94 2.06-2.06.94z\"/><path d=\"M17.41 7.96l-1.37-1.37c-.4-.4-.92-.59-1.43-.59-.52 0-1.04.2-1.43.59L10.3 9.45l-7.72 7.72c-.78.78-.78 2.05 0 2.83L4 21.41c.39.39.9.59 1.41.59.51 0 1.02-.2 1.41-.59l7.78-7.78 2.81-2.81c.8-.78.8-2.07 0-2.86zM5.41 20L4 18.59l7.72-7.72 1.47 1.35L5.41 20z\"/>\n",
              "  </svg>\n",
              "      </button>\n",
              "      \n",
              "  <style>\n",
              "    .colab-df-container {\n",
              "      display:flex;\n",
              "      flex-wrap:wrap;\n",
              "      gap: 12px;\n",
              "    }\n",
              "\n",
              "    .colab-df-convert {\n",
              "      background-color: #E8F0FE;\n",
              "      border: none;\n",
              "      border-radius: 50%;\n",
              "      cursor: pointer;\n",
              "      display: none;\n",
              "      fill: #1967D2;\n",
              "      height: 32px;\n",
              "      padding: 0 0 0 0;\n",
              "      width: 32px;\n",
              "    }\n",
              "\n",
              "    .colab-df-convert:hover {\n",
              "      background-color: #E2EBFA;\n",
              "      box-shadow: 0px 1px 2px rgba(60, 64, 67, 0.3), 0px 1px 3px 1px rgba(60, 64, 67, 0.15);\n",
              "      fill: #174EA6;\n",
              "    }\n",
              "\n",
              "    [theme=dark] .colab-df-convert {\n",
              "      background-color: #3B4455;\n",
              "      fill: #D2E3FC;\n",
              "    }\n",
              "\n",
              "    [theme=dark] .colab-df-convert:hover {\n",
              "      background-color: #434B5C;\n",
              "      box-shadow: 0px 1px 3px 1px rgba(0, 0, 0, 0.15);\n",
              "      filter: drop-shadow(0px 1px 2px rgba(0, 0, 0, 0.3));\n",
              "      fill: #FFFFFF;\n",
              "    }\n",
              "  </style>\n",
              "\n",
              "      <script>\n",
              "        const buttonEl =\n",
              "          document.querySelector('#df-a91ab191-d085-46ef-8cc5-94c6747dbeed button.colab-df-convert');\n",
              "        buttonEl.style.display =\n",
              "          google.colab.kernel.accessAllowed ? 'block' : 'none';\n",
              "\n",
              "        async function convertToInteractive(key) {\n",
              "          const element = document.querySelector('#df-a91ab191-d085-46ef-8cc5-94c6747dbeed');\n",
              "          const dataTable =\n",
              "            await google.colab.kernel.invokeFunction('convertToInteractive',\n",
              "                                                     [key], {});\n",
              "          if (!dataTable) return;\n",
              "\n",
              "          const docLinkHtml = 'Like what you see? Visit the ' +\n",
              "            '<a target=\"_blank\" href=https://colab.research.google.com/notebooks/data_table.ipynb>data table notebook</a>'\n",
              "            + ' to learn more about interactive tables.';\n",
              "          element.innerHTML = '';\n",
              "          dataTable['output_type'] = 'display_data';\n",
              "          await google.colab.output.renderOutput(dataTable, element);\n",
              "          const docLink = document.createElement('div');\n",
              "          docLink.innerHTML = docLinkHtml;\n",
              "          element.appendChild(docLink);\n",
              "        }\n",
              "      </script>\n",
              "    </div>\n",
              "  </div>\n",
              "  "
            ],
            "text/plain": [
              "         Acc Number  Customer ID  ... Starting Balance Ending Balance\n",
              "0          13628063      1362806  ...          1430.22         284.58\n",
              "1  4561143213627090      1362709  ...           266.34         496.15\n",
              "2  4561143213628360      1362836  ...            55.90        1000.00\n",
              "3          13633112      1363311  ...         11017.13         968.46\n",
              "4  4561143213633610      1363361  ...           849.37         462.28\n",
              "\n",
              "[5 rows x 8 columns]"
            ]
          },
          "metadata": {},
          "execution_count": 75
        }
      ]
    },
    {
      "cell_type": "code",
      "source": [
        "df_acc.isnull().sum()"
      ],
      "metadata": {
        "colab": {
          "base_uri": "https://localhost:8080/"
        },
        "id": "5mp6GbmLx9PR",
        "outputId": "9dda267d-9532-4641-e5e5-f86582224349"
      },
      "execution_count": 76,
      "outputs": [
        {
          "output_type": "execute_result",
          "data": {
            "text/plain": [
              "Acc Number             0\n",
              "Customer ID            0\n",
              "Acc Type               0\n",
              "Active                 0\n",
              "Start Date             0\n",
              "End Date            1266\n",
              "Starting Balance       0\n",
              "Ending Balance         0\n",
              "dtype: int64"
            ]
          },
          "metadata": {},
          "execution_count": 76
        }
      ]
    },
    {
      "cell_type": "code",
      "source": [
        "df_acc.shape"
      ],
      "metadata": {
        "colab": {
          "base_uri": "https://localhost:8080/"
        },
        "id": "QbbaGNMyy-hj",
        "outputId": "c18a8660-5b55-4e1f-a639-d562cb59b0b2"
      },
      "execution_count": 77,
      "outputs": [
        {
          "output_type": "execute_result",
          "data": {
            "text/plain": [
              "(1409, 8)"
            ]
          },
          "metadata": {},
          "execution_count": 77
        }
      ]
    },
    {
      "cell_type": "markdown",
      "source": [
        "It seems like 90% of data is missing in End Date column and we have no usage for it. It is better to drop the column. "
      ],
      "metadata": {
        "id": "qjm-i79GzLqL"
      }
    },
    {
      "cell_type": "code",
      "source": [
        "df_acc.drop(['End Date'], axis=1, inplace=True)"
      ],
      "metadata": {
        "id": "imhUIdHSzBkF"
      },
      "execution_count": 78,
      "outputs": []
    },
    {
      "cell_type": "markdown",
      "source": [
        "#Transaction"
      ],
      "metadata": {
        "id": "fbc8daAV4PaT"
      }
    },
    {
      "cell_type": "code",
      "source": [
        "df_transactions=pd.read_csv('twm_transactions.csv', sep=';')\n",
        "df_trans=df_transactions.copy(deep=True)\n",
        "df_trans.head()"
      ],
      "metadata": {
        "colab": {
          "base_uri": "https://localhost:8080/",
          "height": 206
        },
        "id": "_nweXXKw2ajq",
        "outputId": "33a33952-7300-446f-e22d-6068dfeb325a"
      },
      "execution_count": 79,
      "outputs": [
        {
          "output_type": "execute_result",
          "data": {
            "text/html": [
              "\n",
              "  <div id=\"df-bcfb43e7-26ec-4594-8c4b-54a44cee7a9e\">\n",
              "    <div class=\"colab-df-container\">\n",
              "      <div>\n",
              "<style scoped>\n",
              "    .dataframe tbody tr th:only-of-type {\n",
              "        vertical-align: middle;\n",
              "    }\n",
              "\n",
              "    .dataframe tbody tr th {\n",
              "        vertical-align: top;\n",
              "    }\n",
              "\n",
              "    .dataframe thead th {\n",
              "        text-align: right;\n",
              "    }\n",
              "</style>\n",
              "<table border=\"1\" class=\"dataframe\">\n",
              "  <thead>\n",
              "    <tr style=\"text-align: right;\">\n",
              "      <th></th>\n",
              "      <th>tran_id</th>\n",
              "      <th>acct_nbr</th>\n",
              "      <th>tran_amt</th>\n",
              "      <th>principal_amt</th>\n",
              "      <th>interest_amt</th>\n",
              "      <th>new_balance</th>\n",
              "      <th>tran_date</th>\n",
              "      <th>tran_time</th>\n",
              "      <th>channel</th>\n",
              "      <th>tran_code</th>\n",
              "    </tr>\n",
              "  </thead>\n",
              "  <tbody>\n",
              "    <tr>\n",
              "      <th>0</th>\n",
              "      <td>27</td>\n",
              "      <td>13625623</td>\n",
              "      <td>0.00</td>\n",
              "      <td>0.00</td>\n",
              "      <td>0.0</td>\n",
              "      <td>3753.34</td>\n",
              "      <td>21.10.1995</td>\n",
              "      <td>121656</td>\n",
              "      <td>A</td>\n",
              "      <td>IQ</td>\n",
              "    </tr>\n",
              "    <tr>\n",
              "      <th>1</th>\n",
              "      <td>97</td>\n",
              "      <td>13628392</td>\n",
              "      <td>0.00</td>\n",
              "      <td>0.00</td>\n",
              "      <td>0.0</td>\n",
              "      <td>254.49</td>\n",
              "      <td>5.2.1995</td>\n",
              "      <td>153053</td>\n",
              "      <td>V</td>\n",
              "      <td>IQ</td>\n",
              "    </tr>\n",
              "    <tr>\n",
              "      <th>2</th>\n",
              "      <td>21</td>\n",
              "      <td>13630842</td>\n",
              "      <td>-97.57</td>\n",
              "      <td>-97.57</td>\n",
              "      <td>0.0</td>\n",
              "      <td>3819.56</td>\n",
              "      <td>23.7.1995</td>\n",
              "      <td>0</td>\n",
              "      <td>P</td>\n",
              "      <td>WD</td>\n",
              "    </tr>\n",
              "    <tr>\n",
              "      <th>3</th>\n",
              "      <td>44</td>\n",
              "      <td>13631412</td>\n",
              "      <td>-0.15</td>\n",
              "      <td>-0.15</td>\n",
              "      <td>0.0</td>\n",
              "      <td>224.05</td>\n",
              "      <td>30.1.1995</td>\n",
              "      <td>0</td>\n",
              "      <td></td>\n",
              "      <td>FK</td>\n",
              "    </tr>\n",
              "    <tr>\n",
              "      <th>4</th>\n",
              "      <td>31</td>\n",
              "      <td>13625722</td>\n",
              "      <td>0.00</td>\n",
              "      <td>0.00</td>\n",
              "      <td>0.0</td>\n",
              "      <td>240.55</td>\n",
              "      <td>25.1.1995</td>\n",
              "      <td>204521</td>\n",
              "      <td>B</td>\n",
              "      <td>IQ</td>\n",
              "    </tr>\n",
              "  </tbody>\n",
              "</table>\n",
              "</div>\n",
              "      <button class=\"colab-df-convert\" onclick=\"convertToInteractive('df-bcfb43e7-26ec-4594-8c4b-54a44cee7a9e')\"\n",
              "              title=\"Convert this dataframe to an interactive table.\"\n",
              "              style=\"display:none;\">\n",
              "        \n",
              "  <svg xmlns=\"http://www.w3.org/2000/svg\" height=\"24px\"viewBox=\"0 0 24 24\"\n",
              "       width=\"24px\">\n",
              "    <path d=\"M0 0h24v24H0V0z\" fill=\"none\"/>\n",
              "    <path d=\"M18.56 5.44l.94 2.06.94-2.06 2.06-.94-2.06-.94-.94-2.06-.94 2.06-2.06.94zm-11 1L8.5 8.5l.94-2.06 2.06-.94-2.06-.94L8.5 2.5l-.94 2.06-2.06.94zm10 10l.94 2.06.94-2.06 2.06-.94-2.06-.94-.94-2.06-.94 2.06-2.06.94z\"/><path d=\"M17.41 7.96l-1.37-1.37c-.4-.4-.92-.59-1.43-.59-.52 0-1.04.2-1.43.59L10.3 9.45l-7.72 7.72c-.78.78-.78 2.05 0 2.83L4 21.41c.39.39.9.59 1.41.59.51 0 1.02-.2 1.41-.59l7.78-7.78 2.81-2.81c.8-.78.8-2.07 0-2.86zM5.41 20L4 18.59l7.72-7.72 1.47 1.35L5.41 20z\"/>\n",
              "  </svg>\n",
              "      </button>\n",
              "      \n",
              "  <style>\n",
              "    .colab-df-container {\n",
              "      display:flex;\n",
              "      flex-wrap:wrap;\n",
              "      gap: 12px;\n",
              "    }\n",
              "\n",
              "    .colab-df-convert {\n",
              "      background-color: #E8F0FE;\n",
              "      border: none;\n",
              "      border-radius: 50%;\n",
              "      cursor: pointer;\n",
              "      display: none;\n",
              "      fill: #1967D2;\n",
              "      height: 32px;\n",
              "      padding: 0 0 0 0;\n",
              "      width: 32px;\n",
              "    }\n",
              "\n",
              "    .colab-df-convert:hover {\n",
              "      background-color: #E2EBFA;\n",
              "      box-shadow: 0px 1px 2px rgba(60, 64, 67, 0.3), 0px 1px 3px 1px rgba(60, 64, 67, 0.15);\n",
              "      fill: #174EA6;\n",
              "    }\n",
              "\n",
              "    [theme=dark] .colab-df-convert {\n",
              "      background-color: #3B4455;\n",
              "      fill: #D2E3FC;\n",
              "    }\n",
              "\n",
              "    [theme=dark] .colab-df-convert:hover {\n",
              "      background-color: #434B5C;\n",
              "      box-shadow: 0px 1px 3px 1px rgba(0, 0, 0, 0.15);\n",
              "      filter: drop-shadow(0px 1px 2px rgba(0, 0, 0, 0.3));\n",
              "      fill: #FFFFFF;\n",
              "    }\n",
              "  </style>\n",
              "\n",
              "      <script>\n",
              "        const buttonEl =\n",
              "          document.querySelector('#df-bcfb43e7-26ec-4594-8c4b-54a44cee7a9e button.colab-df-convert');\n",
              "        buttonEl.style.display =\n",
              "          google.colab.kernel.accessAllowed ? 'block' : 'none';\n",
              "\n",
              "        async function convertToInteractive(key) {\n",
              "          const element = document.querySelector('#df-bcfb43e7-26ec-4594-8c4b-54a44cee7a9e');\n",
              "          const dataTable =\n",
              "            await google.colab.kernel.invokeFunction('convertToInteractive',\n",
              "                                                     [key], {});\n",
              "          if (!dataTable) return;\n",
              "\n",
              "          const docLinkHtml = 'Like what you see? Visit the ' +\n",
              "            '<a target=\"_blank\" href=https://colab.research.google.com/notebooks/data_table.ipynb>data table notebook</a>'\n",
              "            + ' to learn more about interactive tables.';\n",
              "          element.innerHTML = '';\n",
              "          dataTable['output_type'] = 'display_data';\n",
              "          await google.colab.output.renderOutput(dataTable, element);\n",
              "          const docLink = document.createElement('div');\n",
              "          docLink.innerHTML = docLinkHtml;\n",
              "          element.appendChild(docLink);\n",
              "        }\n",
              "      </script>\n",
              "    </div>\n",
              "  </div>\n",
              "  "
            ],
            "text/plain": [
              "   tran_id  acct_nbr  tran_amt  ...  tran_time  channel  tran_code\n",
              "0       27  13625623      0.00  ...     121656       A        IQ  \n",
              "1       97  13628392      0.00  ...     153053       V        IQ  \n",
              "2       21  13630842    -97.57  ...          0       P        WD  \n",
              "3       44  13631412     -0.15  ...          0                FK  \n",
              "4       31  13625722      0.00  ...     204521       B        IQ  \n",
              "\n",
              "[5 rows x 10 columns]"
            ]
          },
          "metadata": {},
          "execution_count": 79
        }
      ]
    },
    {
      "cell_type": "code",
      "source": [
        "df_trans.columns"
      ],
      "metadata": {
        "colab": {
          "base_uri": "https://localhost:8080/"
        },
        "id": "xiS_BDKj4njO",
        "outputId": "f86ab766-ffe6-4abc-d086-55ebafd9263e"
      },
      "execution_count": 80,
      "outputs": [
        {
          "output_type": "execute_result",
          "data": {
            "text/plain": [
              "Index(['tran_id', 'acct_nbr', 'tran_amt', 'principal_amt', 'interest_amt',\n",
              "       'new_balance', 'tran_date', 'tran_time', 'channel', 'tran_code'],\n",
              "      dtype='object')"
            ]
          },
          "metadata": {},
          "execution_count": 80
        }
      ]
    },
    {
      "cell_type": "code",
      "source": [
        "df_trans.drop(['tran_id', 'tran_time'], axis=1, inplace=True)\n",
        "df_trans.rename(columns={'acct_nbr':'Acc Number', 'tran_amt':'Trans Amount', 'principal_amt':'Principal Amount', 'interest_amt':'Interest Amount','new_balance':'New Balance', 'tran_date':'Trans Date', 'channel':'Channel', 'tran_code':'Trans Code'}, inplace=True)\n",
        "df_trans.head()"
      ],
      "metadata": {
        "colab": {
          "base_uri": "https://localhost:8080/",
          "height": 206
        },
        "id": "2zi-4ak98R6I",
        "outputId": "ce93c425-30ef-4637-ad77-23f5611035ff"
      },
      "execution_count": 81,
      "outputs": [
        {
          "output_type": "execute_result",
          "data": {
            "text/html": [
              "\n",
              "  <div id=\"df-6f718b8e-074d-43f4-a619-83ab0c76eb89\">\n",
              "    <div class=\"colab-df-container\">\n",
              "      <div>\n",
              "<style scoped>\n",
              "    .dataframe tbody tr th:only-of-type {\n",
              "        vertical-align: middle;\n",
              "    }\n",
              "\n",
              "    .dataframe tbody tr th {\n",
              "        vertical-align: top;\n",
              "    }\n",
              "\n",
              "    .dataframe thead th {\n",
              "        text-align: right;\n",
              "    }\n",
              "</style>\n",
              "<table border=\"1\" class=\"dataframe\">\n",
              "  <thead>\n",
              "    <tr style=\"text-align: right;\">\n",
              "      <th></th>\n",
              "      <th>Acc Number</th>\n",
              "      <th>Trans Amount</th>\n",
              "      <th>Principal Amount</th>\n",
              "      <th>Interest Amount</th>\n",
              "      <th>New Balance</th>\n",
              "      <th>Trans Date</th>\n",
              "      <th>Channel</th>\n",
              "      <th>Trans Code</th>\n",
              "    </tr>\n",
              "  </thead>\n",
              "  <tbody>\n",
              "    <tr>\n",
              "      <th>0</th>\n",
              "      <td>13625623</td>\n",
              "      <td>0.00</td>\n",
              "      <td>0.00</td>\n",
              "      <td>0.0</td>\n",
              "      <td>3753.34</td>\n",
              "      <td>21.10.1995</td>\n",
              "      <td>A</td>\n",
              "      <td>IQ</td>\n",
              "    </tr>\n",
              "    <tr>\n",
              "      <th>1</th>\n",
              "      <td>13628392</td>\n",
              "      <td>0.00</td>\n",
              "      <td>0.00</td>\n",
              "      <td>0.0</td>\n",
              "      <td>254.49</td>\n",
              "      <td>5.2.1995</td>\n",
              "      <td>V</td>\n",
              "      <td>IQ</td>\n",
              "    </tr>\n",
              "    <tr>\n",
              "      <th>2</th>\n",
              "      <td>13630842</td>\n",
              "      <td>-97.57</td>\n",
              "      <td>-97.57</td>\n",
              "      <td>0.0</td>\n",
              "      <td>3819.56</td>\n",
              "      <td>23.7.1995</td>\n",
              "      <td>P</td>\n",
              "      <td>WD</td>\n",
              "    </tr>\n",
              "    <tr>\n",
              "      <th>3</th>\n",
              "      <td>13631412</td>\n",
              "      <td>-0.15</td>\n",
              "      <td>-0.15</td>\n",
              "      <td>0.0</td>\n",
              "      <td>224.05</td>\n",
              "      <td>30.1.1995</td>\n",
              "      <td></td>\n",
              "      <td>FK</td>\n",
              "    </tr>\n",
              "    <tr>\n",
              "      <th>4</th>\n",
              "      <td>13625722</td>\n",
              "      <td>0.00</td>\n",
              "      <td>0.00</td>\n",
              "      <td>0.0</td>\n",
              "      <td>240.55</td>\n",
              "      <td>25.1.1995</td>\n",
              "      <td>B</td>\n",
              "      <td>IQ</td>\n",
              "    </tr>\n",
              "  </tbody>\n",
              "</table>\n",
              "</div>\n",
              "      <button class=\"colab-df-convert\" onclick=\"convertToInteractive('df-6f718b8e-074d-43f4-a619-83ab0c76eb89')\"\n",
              "              title=\"Convert this dataframe to an interactive table.\"\n",
              "              style=\"display:none;\">\n",
              "        \n",
              "  <svg xmlns=\"http://www.w3.org/2000/svg\" height=\"24px\"viewBox=\"0 0 24 24\"\n",
              "       width=\"24px\">\n",
              "    <path d=\"M0 0h24v24H0V0z\" fill=\"none\"/>\n",
              "    <path d=\"M18.56 5.44l.94 2.06.94-2.06 2.06-.94-2.06-.94-.94-2.06-.94 2.06-2.06.94zm-11 1L8.5 8.5l.94-2.06 2.06-.94-2.06-.94L8.5 2.5l-.94 2.06-2.06.94zm10 10l.94 2.06.94-2.06 2.06-.94-2.06-.94-.94-2.06-.94 2.06-2.06.94z\"/><path d=\"M17.41 7.96l-1.37-1.37c-.4-.4-.92-.59-1.43-.59-.52 0-1.04.2-1.43.59L10.3 9.45l-7.72 7.72c-.78.78-.78 2.05 0 2.83L4 21.41c.39.39.9.59 1.41.59.51 0 1.02-.2 1.41-.59l7.78-7.78 2.81-2.81c.8-.78.8-2.07 0-2.86zM5.41 20L4 18.59l7.72-7.72 1.47 1.35L5.41 20z\"/>\n",
              "  </svg>\n",
              "      </button>\n",
              "      \n",
              "  <style>\n",
              "    .colab-df-container {\n",
              "      display:flex;\n",
              "      flex-wrap:wrap;\n",
              "      gap: 12px;\n",
              "    }\n",
              "\n",
              "    .colab-df-convert {\n",
              "      background-color: #E8F0FE;\n",
              "      border: none;\n",
              "      border-radius: 50%;\n",
              "      cursor: pointer;\n",
              "      display: none;\n",
              "      fill: #1967D2;\n",
              "      height: 32px;\n",
              "      padding: 0 0 0 0;\n",
              "      width: 32px;\n",
              "    }\n",
              "\n",
              "    .colab-df-convert:hover {\n",
              "      background-color: #E2EBFA;\n",
              "      box-shadow: 0px 1px 2px rgba(60, 64, 67, 0.3), 0px 1px 3px 1px rgba(60, 64, 67, 0.15);\n",
              "      fill: #174EA6;\n",
              "    }\n",
              "\n",
              "    [theme=dark] .colab-df-convert {\n",
              "      background-color: #3B4455;\n",
              "      fill: #D2E3FC;\n",
              "    }\n",
              "\n",
              "    [theme=dark] .colab-df-convert:hover {\n",
              "      background-color: #434B5C;\n",
              "      box-shadow: 0px 1px 3px 1px rgba(0, 0, 0, 0.15);\n",
              "      filter: drop-shadow(0px 1px 2px rgba(0, 0, 0, 0.3));\n",
              "      fill: #FFFFFF;\n",
              "    }\n",
              "  </style>\n",
              "\n",
              "      <script>\n",
              "        const buttonEl =\n",
              "          document.querySelector('#df-6f718b8e-074d-43f4-a619-83ab0c76eb89 button.colab-df-convert');\n",
              "        buttonEl.style.display =\n",
              "          google.colab.kernel.accessAllowed ? 'block' : 'none';\n",
              "\n",
              "        async function convertToInteractive(key) {\n",
              "          const element = document.querySelector('#df-6f718b8e-074d-43f4-a619-83ab0c76eb89');\n",
              "          const dataTable =\n",
              "            await google.colab.kernel.invokeFunction('convertToInteractive',\n",
              "                                                     [key], {});\n",
              "          if (!dataTable) return;\n",
              "\n",
              "          const docLinkHtml = 'Like what you see? Visit the ' +\n",
              "            '<a target=\"_blank\" href=https://colab.research.google.com/notebooks/data_table.ipynb>data table notebook</a>'\n",
              "            + ' to learn more about interactive tables.';\n",
              "          element.innerHTML = '';\n",
              "          dataTable['output_type'] = 'display_data';\n",
              "          await google.colab.output.renderOutput(dataTable, element);\n",
              "          const docLink = document.createElement('div');\n",
              "          docLink.innerHTML = docLinkHtml;\n",
              "          element.appendChild(docLink);\n",
              "        }\n",
              "      </script>\n",
              "    </div>\n",
              "  </div>\n",
              "  "
            ],
            "text/plain": [
              "   Acc Number  Trans Amount  Principal Amount  ...  Trans Date  Channel Trans Code\n",
              "0    13625623          0.00              0.00  ...  21.10.1995       A        IQ  \n",
              "1    13628392          0.00              0.00  ...    5.2.1995       V        IQ  \n",
              "2    13630842        -97.57            -97.57  ...   23.7.1995       P        WD  \n",
              "3    13631412         -0.15             -0.15  ...   30.1.1995                FK  \n",
              "4    13625722          0.00              0.00  ...   25.1.1995       B        IQ  \n",
              "\n",
              "[5 rows x 8 columns]"
            ]
          },
          "metadata": {},
          "execution_count": 81
        }
      ]
    },
    {
      "cell_type": "markdown",
      "source": [
        "# Exploratory Data Analysis"
      ],
      "metadata": {
        "id": "8Hoa-tMz_13B"
      }
    },
    {
      "cell_type": "markdown",
      "source": [
        "## Customer Info"
      ],
      "metadata": {
        "id": "BywcavHq_9dV"
      }
    },
    {
      "cell_type": "code",
      "source": [
        "df_cx.head()"
      ],
      "metadata": {
        "colab": {
          "base_uri": "https://localhost:8080/",
          "height": 206
        },
        "id": "V1NkfeQE9ThL",
        "outputId": "141a4b0a-8370-4a8d-bcf7-17d404fb0125"
      },
      "execution_count": 85,
      "outputs": [
        {
          "output_type": "execute_result",
          "data": {
            "text/html": [
              "\n",
              "  <div id=\"df-241f2642-51d4-4c4e-8917-9b636dfde5a6\">\n",
              "    <div class=\"colab-df-container\">\n",
              "      <div>\n",
              "<style scoped>\n",
              "    .dataframe tbody tr th:only-of-type {\n",
              "        vertical-align: middle;\n",
              "    }\n",
              "\n",
              "    .dataframe tbody tr th {\n",
              "        vertical-align: top;\n",
              "    }\n",
              "\n",
              "    .dataframe thead th {\n",
              "        text-align: right;\n",
              "    }\n",
              "</style>\n",
              "<table border=\"1\" class=\"dataframe\">\n",
              "  <thead>\n",
              "    <tr style=\"text-align: right;\">\n",
              "      <th></th>\n",
              "      <th>Customer ID</th>\n",
              "      <th>Income</th>\n",
              "      <th>Age</th>\n",
              "      <th>Years With Bank</th>\n",
              "      <th>No of Children</th>\n",
              "      <th>Gender</th>\n",
              "      <th>Marital Status</th>\n",
              "      <th>Postal Code</th>\n",
              "      <th>City</th>\n",
              "      <th>State</th>\n",
              "    </tr>\n",
              "  </thead>\n",
              "  <tbody>\n",
              "    <tr>\n",
              "      <th>0</th>\n",
              "      <td>1362691</td>\n",
              "      <td>26150</td>\n",
              "      <td>46</td>\n",
              "      <td>5</td>\n",
              "      <td>1</td>\n",
              "      <td>M</td>\n",
              "      <td>Married</td>\n",
              "      <td>89194</td>\n",
              "      <td>Las Vegas</td>\n",
              "      <td>NV</td>\n",
              "    </tr>\n",
              "    <tr>\n",
              "      <th>1</th>\n",
              "      <td>1362487</td>\n",
              "      <td>6605</td>\n",
              "      <td>71</td>\n",
              "      <td>1</td>\n",
              "      <td>0</td>\n",
              "      <td>M</td>\n",
              "      <td>Married</td>\n",
              "      <td>90159</td>\n",
              "      <td>Los Angeles</td>\n",
              "      <td>CA</td>\n",
              "    </tr>\n",
              "    <tr>\n",
              "      <th>2</th>\n",
              "      <td>1363160</td>\n",
              "      <td>18548</td>\n",
              "      <td>38</td>\n",
              "      <td>8</td>\n",
              "      <td>0</td>\n",
              "      <td>F</td>\n",
              "      <td>Single</td>\n",
              "      <td>90024</td>\n",
              "      <td>Los Angeles</td>\n",
              "      <td>CA</td>\n",
              "    </tr>\n",
              "    <tr>\n",
              "      <th>3</th>\n",
              "      <td>1362752</td>\n",
              "      <td>47668</td>\n",
              "      <td>54</td>\n",
              "      <td>3</td>\n",
              "      <td>0</td>\n",
              "      <td>F</td>\n",
              "      <td>Single</td>\n",
              "      <td>90172</td>\n",
              "      <td>Los Angeles</td>\n",
              "      <td>CA</td>\n",
              "    </tr>\n",
              "    <tr>\n",
              "      <th>4</th>\n",
              "      <td>1362548</td>\n",
              "      <td>44554</td>\n",
              "      <td>59</td>\n",
              "      <td>9</td>\n",
              "      <td>2</td>\n",
              "      <td>F</td>\n",
              "      <td>Unknown</td>\n",
              "      <td>10138</td>\n",
              "      <td>New York City</td>\n",
              "      <td>NY</td>\n",
              "    </tr>\n",
              "  </tbody>\n",
              "</table>\n",
              "</div>\n",
              "      <button class=\"colab-df-convert\" onclick=\"convertToInteractive('df-241f2642-51d4-4c4e-8917-9b636dfde5a6')\"\n",
              "              title=\"Convert this dataframe to an interactive table.\"\n",
              "              style=\"display:none;\">\n",
              "        \n",
              "  <svg xmlns=\"http://www.w3.org/2000/svg\" height=\"24px\"viewBox=\"0 0 24 24\"\n",
              "       width=\"24px\">\n",
              "    <path d=\"M0 0h24v24H0V0z\" fill=\"none\"/>\n",
              "    <path d=\"M18.56 5.44l.94 2.06.94-2.06 2.06-.94-2.06-.94-.94-2.06-.94 2.06-2.06.94zm-11 1L8.5 8.5l.94-2.06 2.06-.94-2.06-.94L8.5 2.5l-.94 2.06-2.06.94zm10 10l.94 2.06.94-2.06 2.06-.94-2.06-.94-.94-2.06-.94 2.06-2.06.94z\"/><path d=\"M17.41 7.96l-1.37-1.37c-.4-.4-.92-.59-1.43-.59-.52 0-1.04.2-1.43.59L10.3 9.45l-7.72 7.72c-.78.78-.78 2.05 0 2.83L4 21.41c.39.39.9.59 1.41.59.51 0 1.02-.2 1.41-.59l7.78-7.78 2.81-2.81c.8-.78.8-2.07 0-2.86zM5.41 20L4 18.59l7.72-7.72 1.47 1.35L5.41 20z\"/>\n",
              "  </svg>\n",
              "      </button>\n",
              "      \n",
              "  <style>\n",
              "    .colab-df-container {\n",
              "      display:flex;\n",
              "      flex-wrap:wrap;\n",
              "      gap: 12px;\n",
              "    }\n",
              "\n",
              "    .colab-df-convert {\n",
              "      background-color: #E8F0FE;\n",
              "      border: none;\n",
              "      border-radius: 50%;\n",
              "      cursor: pointer;\n",
              "      display: none;\n",
              "      fill: #1967D2;\n",
              "      height: 32px;\n",
              "      padding: 0 0 0 0;\n",
              "      width: 32px;\n",
              "    }\n",
              "\n",
              "    .colab-df-convert:hover {\n",
              "      background-color: #E2EBFA;\n",
              "      box-shadow: 0px 1px 2px rgba(60, 64, 67, 0.3), 0px 1px 3px 1px rgba(60, 64, 67, 0.15);\n",
              "      fill: #174EA6;\n",
              "    }\n",
              "\n",
              "    [theme=dark] .colab-df-convert {\n",
              "      background-color: #3B4455;\n",
              "      fill: #D2E3FC;\n",
              "    }\n",
              "\n",
              "    [theme=dark] .colab-df-convert:hover {\n",
              "      background-color: #434B5C;\n",
              "      box-shadow: 0px 1px 3px 1px rgba(0, 0, 0, 0.15);\n",
              "      filter: drop-shadow(0px 1px 2px rgba(0, 0, 0, 0.3));\n",
              "      fill: #FFFFFF;\n",
              "    }\n",
              "  </style>\n",
              "\n",
              "      <script>\n",
              "        const buttonEl =\n",
              "          document.querySelector('#df-241f2642-51d4-4c4e-8917-9b636dfde5a6 button.colab-df-convert');\n",
              "        buttonEl.style.display =\n",
              "          google.colab.kernel.accessAllowed ? 'block' : 'none';\n",
              "\n",
              "        async function convertToInteractive(key) {\n",
              "          const element = document.querySelector('#df-241f2642-51d4-4c4e-8917-9b636dfde5a6');\n",
              "          const dataTable =\n",
              "            await google.colab.kernel.invokeFunction('convertToInteractive',\n",
              "                                                     [key], {});\n",
              "          if (!dataTable) return;\n",
              "\n",
              "          const docLinkHtml = 'Like what you see? Visit the ' +\n",
              "            '<a target=\"_blank\" href=https://colab.research.google.com/notebooks/data_table.ipynb>data table notebook</a>'\n",
              "            + ' to learn more about interactive tables.';\n",
              "          element.innerHTML = '';\n",
              "          dataTable['output_type'] = 'display_data';\n",
              "          await google.colab.output.renderOutput(dataTable, element);\n",
              "          const docLink = document.createElement('div');\n",
              "          docLink.innerHTML = docLinkHtml;\n",
              "          element.appendChild(docLink);\n",
              "        }\n",
              "      </script>\n",
              "    </div>\n",
              "  </div>\n",
              "  "
            ],
            "text/plain": [
              "   Customer ID  Income  ...                                      City  State\n",
              "0      1362691   26150  ...  Las Vegas                                  NV  \n",
              "1      1362487    6605  ...  Los Angeles                                CA  \n",
              "2      1363160   18548  ...  Los Angeles                                CA  \n",
              "3      1362752   47668  ...  Los Angeles                                CA  \n",
              "4      1362548   44554  ...  New York City                              NY  \n",
              "\n",
              "[5 rows x 10 columns]"
            ]
          },
          "metadata": {},
          "execution_count": 85
        }
      ]
    },
    {
      "cell_type": "code",
      "source": [
        "\n",
        "cx_state=df_cx['State'].value_counts().head(5)\n",
        "plt.figure(figsize=(12, 6))\n",
        "sns.barplot(cx_state.index, cx_state.values, palette='OrRd_r')\n",
        "plt.title('Top States')\n",
        "plt.xlabel('States')\n",
        "plt.ylabel('Number of Cx')\n",
        "plt.show()"
      ],
      "metadata": {
        "colab": {
          "base_uri": "https://localhost:8080/",
          "height": 493
        },
        "id": "hcaYTXaoAC6V",
        "outputId": "72402a79-903f-4b16-eb02-2e44190b5d5f"
      },
      "execution_count": 113,
      "outputs": [
        {
          "output_type": "stream",
          "name": "stderr",
          "text": [
            "/usr/local/lib/python3.7/dist-packages/seaborn/_decorators.py:43: FutureWarning:\n",
            "\n",
            "Pass the following variables as keyword args: x, y. From version 0.12, the only valid positional argument will be `data`, and passing other arguments without an explicit keyword will result in an error or misinterpretation.\n",
            "\n"
          ]
        },
        {
          "output_type": "display_data",
          "data": {
            "image/png": "[encoded data removed]",
            "text/plain": [
              "<Figure size 864x432 with 1 Axes>"
            ]
          },
          "metadata": {
            "needs_background": "light"
          }
        }
      ]
    },
    {
      "cell_type": "markdown",
      "source": [
        "The graph shows that number of customers from California is higher than the rest of the states, followed by New York. We can also find out their percentage."
      ],
      "metadata": {
        "id": "3UuDuh6ZtUBh"
      }
    },
    {
      "cell_type": "code",
      "source": [
        "df_perc=((df_cx['State'].value_counts()/df_cx['State'].count())*100).head(5)\n",
        "plt.figure(figsize=(12, 6))\n",
        "sns.barplot(df_perc.index, df_perc.values, palette='Blues_d')\n",
        "plt.title('Percentage of Cx based on States', )\n",
        "plt.xlabel('States')\n",
        "plt.ylabel('Percentage')\n",
        "plt.show()"
      ],
      "metadata": {
        "colab": {
          "base_uri": "https://localhost:8080/",
          "height": 493
        },
        "id": "S4eSYWFhgf95",
        "outputId": "905611f1-ac51-4514-8714-1124683f2bee"
      },
      "execution_count": 107,
      "outputs": [
        {
          "output_type": "stream",
          "name": "stderr",
          "text": [
            "/usr/local/lib/python3.7/dist-packages/seaborn/_decorators.py:43: FutureWarning:\n",
            "\n",
            "Pass the following variables as keyword args: x, y. From version 0.12, the only valid positional argument will be `data`, and passing other arguments without an explicit keyword will result in an error or misinterpretation.\n",
            "\n"
          ]
        },
        {
          "output_type": "display_data",
          "data": {
            "image/png": "[encoded data removed]",
            "text/plain": [
              "<Figure size 864x432 with 1 Axes>"
            ]
          },
          "metadata": {
            "needs_background": "light"
          }
        }
      ]
    },
    {
      "cell_type": "markdown",
      "source": [
        "This graph show that around 23% of customers are from California, followed by 14% from New York, and 12% from Texas. The first lesson learned from the two above graphs is that HQ of the bank may located in California and number of its branches could be higher than the New York and other states. Or its marketing strategy is more effective in California. So, the bank should either expand its branches in others states or work on its marketing strategies to attract more customers outside the California."
      ],
      "metadata": {
        "id": "2ejocREOtxJS"
      }
    },
    {
      "cell_type": "code",
      "source": [
        "#Marital Status of Customers based on Gender\n",
        "ax=sns.countplot(x='Marital Status', hue='Gender', data=df_cx, palette='Oranges')"
      ],
      "metadata": {
        "colab": {
          "base_uri": "https://localhost:8080/",
          "height": 279
        },
        "id": "XITWclP0hu56",
        "outputId": "e8abd5a9-d3e0-4eba-8be7-fbd65b3c0750"
      },
      "execution_count": 119,
      "outputs": [
        {
          "output_type": "display_data",
          "data": {
            "image/png": "[encoded data removed]",
            "text/plain": [
              "<Figure size 432x288 with 1 Axes>"
            ]
          },
          "metadata": {
            "needs_background": "light"
          }
        }
      ]
    },
    {
      "cell_type": "markdown",
      "source": [
        "What we can learn from this graph is that Bank has more female customers than male regardless of their martial status. Additionally, it most of customers are married, followed by single as a second category. However, the customers who are divorced have the smallest number in this graph. So, bank may need to work on its marketing strategy to attract more divorced customers."
      ],
      "metadata": {
        "id": "5Xhd0-RaxDOr"
      }
    },
    {
      "cell_type": "code",
      "source": [
        "# Number of Customers Based on Age\n",
        "plt.figure(figsize=(18, 5))\n",
        "ax=sns.countplot(x='Age', data=df_cx)"
      ],
      "metadata": {
        "colab": {
          "base_uri": "https://localhost:8080/",
          "height": 334
        },
        "id": "MQP6UhEMfnex",
        "outputId": "e2aa71b0-ead2-452a-f703-6887852f6c79"
      },
      "execution_count": 125,
      "outputs": [
        {
          "output_type": "display_data",
          "data": {
            "image/png": "[encoded data removed]",
            "text/plain": [
              "<Figure size 1296x360 with 1 Axes>"
            ]
          },
          "metadata": {
            "needs_background": "light"
          }
        }
      ]
    },
    {
      "cell_type": "markdown",
      "source": [
        "It is better to categorize the age group in order to make graph more readable."
      ],
      "metadata": {
        "id": "kdYkcUnG3u03"
      }
    },
    {
      "cell_type": "code",
      "source": [
        "bins=[0, 15, 25, 64, 80]\n",
        "labels=['Teen', 'Young', 'Adult', 'Senior']\n",
        "df_cx['AgeGroup']=pd.cut(df_cx['Age'], bins=bins, labels=labels, right=False)\n",
        "df_cx.head()"
      ],
      "metadata": {
        "colab": {
          "base_uri": "https://localhost:8080/",
          "height": 206
        },
        "id": "8Es5B20yrOJz",
        "outputId": "18e53d72-c849-48cb-a4e7-5aaffdfa3c25"
      },
      "execution_count": 154,
      "outputs": [
        {
          "output_type": "execute_result",
          "data": {
            "text/html": [
              "\n",
              "  <div id=\"df-752425b1-b733-4ea8-acb0-e76c68e556c7\">\n",
              "    <div class=\"colab-df-container\">\n",
              "      <div>\n",
              "<style scoped>\n",
              "    .dataframe tbody tr th:only-of-type {\n",
              "        vertical-align: middle;\n",
              "    }\n",
              "\n",
              "    .dataframe tbody tr th {\n",
              "        vertical-align: top;\n",
              "    }\n",
              "\n",
              "    .dataframe thead th {\n",
              "        text-align: right;\n",
              "    }\n",
              "</style>\n",
              "<table border=\"1\" class=\"dataframe\">\n",
              "  <thead>\n",
              "    <tr style=\"text-align: right;\">\n",
              "      <th></th>\n",
              "      <th>Customer ID</th>\n",
              "      <th>Income</th>\n",
              "      <th>Age</th>\n",
              "      <th>Years With Bank</th>\n",
              "      <th>No of Children</th>\n",
              "      <th>Gender</th>\n",
              "      <th>Marital Status</th>\n",
              "      <th>Postal Code</th>\n",
              "      <th>City</th>\n",
              "      <th>State</th>\n",
              "      <th>AgeGroup</th>\n",
              "    </tr>\n",
              "  </thead>\n",
              "  <tbody>\n",
              "    <tr>\n",
              "      <th>0</th>\n",
              "      <td>1362691</td>\n",
              "      <td>26150</td>\n",
              "      <td>46</td>\n",
              "      <td>5</td>\n",
              "      <td>1</td>\n",
              "      <td>M</td>\n",
              "      <td>Married</td>\n",
              "      <td>89194</td>\n",
              "      <td>Las Vegas</td>\n",
              "      <td>NV</td>\n",
              "      <td>Adult</td>\n",
              "    </tr>\n",
              "    <tr>\n",
              "      <th>1</th>\n",
              "      <td>1362487</td>\n",
              "      <td>6605</td>\n",
              "      <td>71</td>\n",
              "      <td>1</td>\n",
              "      <td>0</td>\n",
              "      <td>M</td>\n",
              "      <td>Married</td>\n",
              "      <td>90159</td>\n",
              "      <td>Los Angeles</td>\n",
              "      <td>CA</td>\n",
              "      <td>Senior</td>\n",
              "    </tr>\n",
              "    <tr>\n",
              "      <th>2</th>\n",
              "      <td>1363160</td>\n",
              "      <td>18548</td>\n",
              "      <td>38</td>\n",
              "      <td>8</td>\n",
              "      <td>0</td>\n",
              "      <td>F</td>\n",
              "      <td>Single</td>\n",
              "      <td>90024</td>\n",
              "      <td>Los Angeles</td>\n",
              "      <td>CA</td>\n",
              "      <td>Adult</td>\n",
              "    </tr>\n",
              "    <tr>\n",
              "      <th>3</th>\n",
              "      <td>1362752</td>\n",
              "      <td>47668</td>\n",
              "      <td>54</td>\n",
              "      <td>3</td>\n",
              "      <td>0</td>\n",
              "      <td>F</td>\n",
              "      <td>Single</td>\n",
              "      <td>90172</td>\n",
              "      <td>Los Angeles</td>\n",
              "      <td>CA</td>\n",
              "      <td>Adult</td>\n",
              "    </tr>\n",
              "    <tr>\n",
              "      <th>4</th>\n",
              "      <td>1362548</td>\n",
              "      <td>44554</td>\n",
              "      <td>59</td>\n",
              "      <td>9</td>\n",
              "      <td>2</td>\n",
              "      <td>F</td>\n",
              "      <td>Unknown</td>\n",
              "      <td>10138</td>\n",
              "      <td>New York City</td>\n",
              "      <td>NY</td>\n",
              "      <td>Adult</td>\n",
              "    </tr>\n",
              "  </tbody>\n",
              "</table>\n",
              "</div>\n",
              "      <button class=\"colab-df-convert\" onclick=\"convertToInteractive('df-752425b1-b733-4ea8-acb0-e76c68e556c7')\"\n",
              "              title=\"Convert this dataframe to an interactive table.\"\n",
              "              style=\"display:none;\">\n",
              "        \n",
              "  <svg xmlns=\"http://www.w3.org/2000/svg\" height=\"24px\"viewBox=\"0 0 24 24\"\n",
              "       width=\"24px\">\n",
              "    <path d=\"M0 0h24v24H0V0z\" fill=\"none\"/>\n",
              "    <path d=\"M18.56 5.44l.94 2.06.94-2.06 2.06-.94-2.06-.94-.94-2.06-.94 2.06-2.06.94zm-11 1L8.5 8.5l.94-2.06 2.06-.94-2.06-.94L8.5 2.5l-.94 2.06-2.06.94zm10 10l.94 2.06.94-2.06 2.06-.94-2.06-.94-.94-2.06-.94 2.06-2.06.94z\"/><path d=\"M17.41 7.96l-1.37-1.37c-.4-.4-.92-.59-1.43-.59-.52 0-1.04.2-1.43.59L10.3 9.45l-7.72 7.72c-.78.78-.78 2.05 0 2.83L4 21.41c.39.39.9.59 1.41.59.51 0 1.02-.2 1.41-.59l7.78-7.78 2.81-2.81c.8-.78.8-2.07 0-2.86zM5.41 20L4 18.59l7.72-7.72 1.47 1.35L5.41 20z\"/>\n",
              "  </svg>\n",
              "      </button>\n",
              "      \n",
              "  <style>\n",
              "    .colab-df-container {\n",
              "      display:flex;\n",
              "      flex-wrap:wrap;\n",
              "      gap: 12px;\n",
              "    }\n",
              "\n",
              "    .colab-df-convert {\n",
              "      background-color: #E8F0FE;\n",
              "      border: none;\n",
              "      border-radius: 50%;\n",
              "      cursor: pointer;\n",
              "      display: none;\n",
              "      fill: #1967D2;\n",
              "      height: 32px;\n",
              "      padding: 0 0 0 0;\n",
              "      width: 32px;\n",
              "    }\n",
              "\n",
              "    .colab-df-convert:hover {\n",
              "      background-color: #E2EBFA;\n",
              "      box-shadow: 0px 1px 2px rgba(60, 64, 67, 0.3), 0px 1px 3px 1px rgba(60, 64, 67, 0.15);\n",
              "      fill: #174EA6;\n",
              "    }\n",
              "\n",
              "    [theme=dark] .colab-df-convert {\n",
              "      background-color: #3B4455;\n",
              "      fill: #D2E3FC;\n",
              "    }\n",
              "\n",
              "    [theme=dark] .colab-df-convert:hover {\n",
              "      background-color: #434B5C;\n",
              "      box-shadow: 0px 1px 3px 1px rgba(0, 0, 0, 0.15);\n",
              "      filter: drop-shadow(0px 1px 2px rgba(0, 0, 0, 0.3));\n",
              "      fill: #FFFFFF;\n",
              "    }\n",
              "  </style>\n",
              "\n",
              "      <script>\n",
              "        const buttonEl =\n",
              "          document.querySelector('#df-752425b1-b733-4ea8-acb0-e76c68e556c7 button.colab-df-convert');\n",
              "        buttonEl.style.display =\n",
              "          google.colab.kernel.accessAllowed ? 'block' : 'none';\n",
              "\n",
              "        async function convertToInteractive(key) {\n",
              "          const element = document.querySelector('#df-752425b1-b733-4ea8-acb0-e76c68e556c7');\n",
              "          const dataTable =\n",
              "            await google.colab.kernel.invokeFunction('convertToInteractive',\n",
              "                                                     [key], {});\n",
              "          if (!dataTable) return;\n",
              "\n",
              "          const docLinkHtml = 'Like what you see? Visit the ' +\n",
              "            '<a target=\"_blank\" href=https://colab.research.google.com/notebooks/data_table.ipynb>data table notebook</a>'\n",
              "            + ' to learn more about interactive tables.';\n",
              "          element.innerHTML = '';\n",
              "          dataTable['output_type'] = 'display_data';\n",
              "          await google.colab.output.renderOutput(dataTable, element);\n",
              "          const docLink = document.createElement('div');\n",
              "          docLink.innerHTML = docLinkHtml;\n",
              "          element.appendChild(docLink);\n",
              "        }\n",
              "      </script>\n",
              "    </div>\n",
              "  </div>\n",
              "  "
            ],
            "text/plain": [
              "   Customer ID  Income  ...  State  AgeGroup\n",
              "0      1362691   26150  ...   NV       Adult\n",
              "1      1362487    6605  ...   CA      Senior\n",
              "2      1363160   18548  ...   CA       Adult\n",
              "3      1362752   47668  ...   CA       Adult\n",
              "4      1362548   44554  ...   NY       Adult\n",
              "\n",
              "[5 rows x 11 columns]"
            ]
          },
          "metadata": {},
          "execution_count": 154
        }
      ]
    },
    {
      "cell_type": "code",
      "source": [
        "ax=sns.countplot(x='AgeGroup', data=df_cx)"
      ],
      "metadata": {
        "colab": {
          "base_uri": "https://localhost:8080/",
          "height": 285
        },
        "id": "IFaz379d4sV3",
        "outputId": "eb528dae-f6c0-4a51-8bba-7dfb65ddcbc4"
      },
      "execution_count": 155,
      "outputs": [
        {
          "output_type": "display_data",
          "data": {
            "image/png": "[encoded data removed]",
            "text/plain": [
              "<Figure size 432x288 with 1 Axes>"
            ]
          },
          "metadata": {}
        }
      ]
    },
    {
      "cell_type": "code",
      "source": [
        "# Age Groupd Percentage\n",
        "df_agegroup=(df_cx['AgeGroup'].value_counts()/df_cx['AgeGroup'].count())*100\n",
        "sns.barplot(df_agegroup.index, df_agegroup.values, palette='Oranges')\n",
        "plt.xlabel('Age Group')\n",
        "plt.ylabel('Percentage')\n",
        "plt.title('Age Group Percentage')\n",
        "plt.show()\n",
        "\n"
      ],
      "metadata": {
        "colab": {
          "base_uri": "https://localhost:8080/",
          "height": 390
        },
        "id": "t5bhGvK-5Ith",
        "outputId": "ea650e9e-ee28-4688-93b3-8474e0a9dd90"
      },
      "execution_count": 156,
      "outputs": [
        {
          "output_type": "stream",
          "name": "stderr",
          "text": [
            "/usr/local/lib/python3.7/dist-packages/seaborn/_decorators.py:43: FutureWarning:\n",
            "\n",
            "Pass the following variables as keyword args: x, y. From version 0.12, the only valid positional argument will be `data`, and passing other arguments without an explicit keyword will result in an error or misinterpretation.\n",
            "\n"
          ]
        },
        {
          "output_type": "display_data",
          "data": {
            "image/png": "[encoded data removed]",
            "text/plain": [
              "<Figure size 432x288 with 1 Axes>"
            ]
          },
          "metadata": {}
        }
      ]
    },
    {
      "cell_type": "markdown",
      "source": [
        "We can see that around 65% of customers are adults, 19% youngs, and 11% seniors, and 4% teens in this bank."
      ],
      "metadata": {
        "id": "p1_25LGu7q8I"
      }
    },
    {
      "cell_type": "code",
      "source": [
        "df_cx.head()"
      ],
      "metadata": {
        "colab": {
          "base_uri": "https://localhost:8080/",
          "height": 206
        },
        "id": "UZTWdkQp7eWg",
        "outputId": "b454ef05-d53e-4dfa-d956-f9083c4660aa"
      },
      "execution_count": 157,
      "outputs": [
        {
          "output_type": "execute_result",
          "data": {
            "text/html": [
              "\n",
              "  <div id=\"df-acbf972d-39aa-4402-a739-60c55c2bdfea\">\n",
              "    <div class=\"colab-df-container\">\n",
              "      <div>\n",
              "<style scoped>\n",
              "    .dataframe tbody tr th:only-of-type {\n",
              "        vertical-align: middle;\n",
              "    }\n",
              "\n",
              "    .dataframe tbody tr th {\n",
              "        vertical-align: top;\n",
              "    }\n",
              "\n",
              "    .dataframe thead th {\n",
              "        text-align: right;\n",
              "    }\n",
              "</style>\n",
              "<table border=\"1\" class=\"dataframe\">\n",
              "  <thead>\n",
              "    <tr style=\"text-align: right;\">\n",
              "      <th></th>\n",
              "      <th>Customer ID</th>\n",
              "      <th>Income</th>\n",
              "      <th>Age</th>\n",
              "      <th>Years With Bank</th>\n",
              "      <th>No of Children</th>\n",
              "      <th>Gender</th>\n",
              "      <th>Marital Status</th>\n",
              "      <th>Postal Code</th>\n",
              "      <th>City</th>\n",
              "      <th>State</th>\n",
              "      <th>AgeGroup</th>\n",
              "    </tr>\n",
              "  </thead>\n",
              "  <tbody>\n",
              "    <tr>\n",
              "      <th>0</th>\n",
              "      <td>1362691</td>\n",
              "      <td>26150</td>\n",
              "      <td>46</td>\n",
              "      <td>5</td>\n",
              "      <td>1</td>\n",
              "      <td>M</td>\n",
              "      <td>Married</td>\n",
              "      <td>89194</td>\n",
              "      <td>Las Vegas</td>\n",
              "      <td>NV</td>\n",
              "      <td>Adult</td>\n",
              "    </tr>\n",
              "    <tr>\n",
              "      <th>1</th>\n",
              "      <td>1362487</td>\n",
              "      <td>6605</td>\n",
              "      <td>71</td>\n",
              "      <td>1</td>\n",
              "      <td>0</td>\n",
              "      <td>M</td>\n",
              "      <td>Married</td>\n",
              "      <td>90159</td>\n",
              "      <td>Los Angeles</td>\n",
              "      <td>CA</td>\n",
              "      <td>Senior</td>\n",
              "    </tr>\n",
              "    <tr>\n",
              "      <th>2</th>\n",
              "      <td>1363160</td>\n",
              "      <td>18548</td>\n",
              "      <td>38</td>\n",
              "      <td>8</td>\n",
              "      <td>0</td>\n",
              "      <td>F</td>\n",
              "      <td>Single</td>\n",
              "      <td>90024</td>\n",
              "      <td>Los Angeles</td>\n",
              "      <td>CA</td>\n",
              "      <td>Adult</td>\n",
              "    </tr>\n",
              "    <tr>\n",
              "      <th>3</th>\n",
              "      <td>1362752</td>\n",
              "      <td>47668</td>\n",
              "      <td>54</td>\n",
              "      <td>3</td>\n",
              "      <td>0</td>\n",
              "      <td>F</td>\n",
              "      <td>Single</td>\n",
              "      <td>90172</td>\n",
              "      <td>Los Angeles</td>\n",
              "      <td>CA</td>\n",
              "      <td>Adult</td>\n",
              "    </tr>\n",
              "    <tr>\n",
              "      <th>4</th>\n",
              "      <td>1362548</td>\n",
              "      <td>44554</td>\n",
              "      <td>59</td>\n",
              "      <td>9</td>\n",
              "      <td>2</td>\n",
              "      <td>F</td>\n",
              "      <td>Unknown</td>\n",
              "      <td>10138</td>\n",
              "      <td>New York City</td>\n",
              "      <td>NY</td>\n",
              "      <td>Adult</td>\n",
              "    </tr>\n",
              "  </tbody>\n",
              "</table>\n",
              "</div>\n",
              "      <button class=\"colab-df-convert\" onclick=\"convertToInteractive('df-acbf972d-39aa-4402-a739-60c55c2bdfea')\"\n",
              "              title=\"Convert this dataframe to an interactive table.\"\n",
              "              style=\"display:none;\">\n",
              "        \n",
              "  <svg xmlns=\"http://www.w3.org/2000/svg\" height=\"24px\"viewBox=\"0 0 24 24\"\n",
              "       width=\"24px\">\n",
              "    <path d=\"M0 0h24v24H0V0z\" fill=\"none\"/>\n",
              "    <path d=\"M18.56 5.44l.94 2.06.94-2.06 2.06-.94-2.06-.94-.94-2.06-.94 2.06-2.06.94zm-11 1L8.5 8.5l.94-2.06 2.06-.94-2.06-.94L8.5 2.5l-.94 2.06-2.06.94zm10 10l.94 2.06.94-2.06 2.06-.94-2.06-.94-.94-2.06-.94 2.06-2.06.94z\"/><path d=\"M17.41 7.96l-1.37-1.37c-.4-.4-.92-.59-1.43-.59-.52 0-1.04.2-1.43.59L10.3 9.45l-7.72 7.72c-.78.78-.78 2.05 0 2.83L4 21.41c.39.39.9.59 1.41.59.51 0 1.02-.2 1.41-.59l7.78-7.78 2.81-2.81c.8-.78.8-2.07 0-2.86zM5.41 20L4 18.59l7.72-7.72 1.47 1.35L5.41 20z\"/>\n",
              "  </svg>\n",
              "      </button>\n",
              "      \n",
              "  <style>\n",
              "    .colab-df-container {\n",
              "      display:flex;\n",
              "      flex-wrap:wrap;\n",
              "      gap: 12px;\n",
              "    }\n",
              "\n",
              "    .colab-df-convert {\n",
              "      background-color: #E8F0FE;\n",
              "      border: none;\n",
              "      border-radius: 50%;\n",
              "      cursor: pointer;\n",
              "      display: none;\n",
              "      fill: #1967D2;\n",
              "      height: 32px;\n",
              "      padding: 0 0 0 0;\n",
              "      width: 32px;\n",
              "    }\n",
              "\n",
              "    .colab-df-convert:hover {\n",
              "      background-color: #E2EBFA;\n",
              "      box-shadow: 0px 1px 2px rgba(60, 64, 67, 0.3), 0px 1px 3px 1px rgba(60, 64, 67, 0.15);\n",
              "      fill: #174EA6;\n",
              "    }\n",
              "\n",
              "    [theme=dark] .colab-df-convert {\n",
              "      background-color: #3B4455;\n",
              "      fill: #D2E3FC;\n",
              "    }\n",
              "\n",
              "    [theme=dark] .colab-df-convert:hover {\n",
              "      background-color: #434B5C;\n",
              "      box-shadow: 0px 1px 3px 1px rgba(0, 0, 0, 0.15);\n",
              "      filter: drop-shadow(0px 1px 2px rgba(0, 0, 0, 0.3));\n",
              "      fill: #FFFFFF;\n",
              "    }\n",
              "  </style>\n",
              "\n",
              "      <script>\n",
              "        const buttonEl =\n",
              "          document.querySelector('#df-acbf972d-39aa-4402-a739-60c55c2bdfea button.colab-df-convert');\n",
              "        buttonEl.style.display =\n",
              "          google.colab.kernel.accessAllowed ? 'block' : 'none';\n",
              "\n",
              "        async function convertToInteractive(key) {\n",
              "          const element = document.querySelector('#df-acbf972d-39aa-4402-a739-60c55c2bdfea');\n",
              "          const dataTable =\n",
              "            await google.colab.kernel.invokeFunction('convertToInteractive',\n",
              "                                                     [key], {});\n",
              "          if (!dataTable) return;\n",
              "\n",
              "          const docLinkHtml = 'Like what you see? Visit the ' +\n",
              "            '<a target=\"_blank\" href=https://colab.research.google.com/notebooks/data_table.ipynb>data table notebook</a>'\n",
              "            + ' to learn more about interactive tables.';\n",
              "          element.innerHTML = '';\n",
              "          dataTable['output_type'] = 'display_data';\n",
              "          await google.colab.output.renderOutput(dataTable, element);\n",
              "          const docLink = document.createElement('div');\n",
              "          docLink.innerHTML = docLinkHtml;\n",
              "          element.appendChild(docLink);\n",
              "        }\n",
              "      </script>\n",
              "    </div>\n",
              "  </div>\n",
              "  "
            ],
            "text/plain": [
              "   Customer ID  Income  ...  State  AgeGroup\n",
              "0      1362691   26150  ...   NV       Adult\n",
              "1      1362487    6605  ...   CA      Senior\n",
              "2      1363160   18548  ...   CA       Adult\n",
              "3      1362752   47668  ...   CA       Adult\n",
              "4      1362548   44554  ...   NY       Adult\n",
              "\n",
              "[5 rows x 11 columns]"
            ]
          },
          "metadata": {},
          "execution_count": 157
        }
      ]
    },
    {
      "cell_type": "code",
      "source": [
        "plt.figure(figsize=(18, 6))\n",
        "sns.set_theme(style='darkgrid')\n",
        "sns.lineplot(x='Age', y='Income', hue='Gender', data=df_cx)\n"
      ],
      "metadata": {
        "colab": {
          "base_uri": "https://localhost:8080/",
          "height": 411
        },
        "id": "JHRxpBVY8LdR",
        "outputId": "d604d1e6-08bf-4afe-a8a6-9f0165ec7802"
      },
      "execution_count": 158,
      "outputs": [
        {
          "output_type": "execute_result",
          "data": {
            "text/plain": [
              "<matplotlib.axes._subplots.AxesSubplot at 0x7fbfbaafe710>"
            ]
          },
          "metadata": {},
          "execution_count": 158
        },
        {
          "output_type": "display_data",
          "data": {
            "image/png": "[encoded data removed]",
            "text/plain": [
              "<Figure size 1296x432 with 1 Axes>"
            ]
          },
          "metadata": {}
        }
      ]
    },
    {
      "cell_type": "markdown",
      "source": [
        "The graph says that income level increases to 40000/year during late twenties and it increases to 60000 and above. However, as the people and are retired, their incomes are also reduced, especially in early sixties. We can also learn from this graph that there a little bit difference in income level during the adulthood based on Gender, and males are intended to earn more than females."
      ],
      "metadata": {
        "id": "oSg4oisSBUwz"
      }
    },
    {
      "cell_type": "code",
      "source": [
        "plt.figure(figsize=(18, 6))\n",
        "sns.set_theme(style='darkgrid')\n",
        "sns.lineplot(x='Age', y='Income', hue='AgeGroup', data=df_cx)"
      ],
      "metadata": {
        "colab": {
          "base_uri": "https://localhost:8080/",
          "height": 411
        },
        "id": "4VaVsBEQ9WsI",
        "outputId": "d075247f-3651-476a-c43a-eb86c572f5a6"
      },
      "execution_count": 159,
      "outputs": [
        {
          "output_type": "execute_result",
          "data": {
            "text/plain": [
              "<matplotlib.axes._subplots.AxesSubplot at 0x7fbfba9a2590>"
            ]
          },
          "metadata": {},
          "execution_count": 159
        },
        {
          "output_type": "display_data",
          "data": {
            "image/png": "[encoded data removed]",
            "text/plain": [
              "<Figure size 1296x432 with 1 Axes>"
            ]
          },
          "metadata": {}
        }
      ]
    },
    {
      "cell_type": "markdown",
      "source": [
        "This shows the income level of customers based on their age group. As it seems, the teens have no income. Young people earn around ten to twenty thousand when they are 17 to 25 years old. As they get adult, their earning increased annually to 30000$ and it grows to 60000$ or even near to 80000$. As the people age and stop working, their income also reduced. "
      ],
      "metadata": {
        "id": "HDWwjhhZDFCk"
      }
    },
    {
      "cell_type": "code",
      "source": [
        ""
      ],
      "metadata": {
        "id": "2nunkRNY_58i"
      },
      "execution_count": null,
      "outputs": []
    }
  ]
}